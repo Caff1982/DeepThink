{
 "cells": [
  {
   "cell_type": "code",
   "execution_count": 1,
   "metadata": {},
   "outputs": [],
   "source": [
    "import os\n",
    "# Ignore TensorFlow warnings\n",
    "os.environ['TF_CPP_MIN_LOG_LEVEL'] = '3' \n",
    "\n",
    "import numpy as np\n",
    "import matplotlib.pyplot as plt\n",
    "from sklearn.manifold import TSNE\n",
    "from sklearn.metrics.pairwise import cosine_similarity\n",
    "\n",
    "from tensorflow.keras.datasets import imdb\n",
    "\n",
    "from deepthink.layers import Embedding, GlobalAveragePooling1D, Dense\n",
    "from deepthink.model import Model\n",
    "from deepthink.optimizers import Adam\n",
    "from deepthink.loss import BinaryCrossEntropy\n",
    "from deepthink.activations import Sigmoid\n",
    "from deepthink.utils import pad_sequences\n",
    "\n",
    "# Set default matplotlib style\n",
    "plt.style.use('ggplot')"
   ]
  },
  {
   "attachments": {},
   "cell_type": "markdown",
   "metadata": {},
   "source": [
    "## IMDB Sentiment Analysis\n",
    "\n",
    "The purpose of this notebook is to demonstrate text-classification using [sentiment analysis](https://en.wikipedia.org/wiki/Sentiment_analysis). This example is inspired by [this](https://www.tensorflow.org/tutorials/keras/text_classification) TensorFlow tutorial.\n",
    "\n",
    "#### IMDB Dataset\n",
    "\n",
    "The dataset used is the [Large Movie Review Dataset](https://ai.stanford.edu/~amaas/data/sentiment/), which consists of 50,000 movie reviews from [imdb.com](https://www.imdb.com/) split into 25,000 for training and 25,000 for testing. Each review is classed as positive or negative (1 or 0 respectively) and the goal is to predict this from the review text. Reviews have been preprocessed, and each review is encoded as a sequence of word indexes (integers)."
   ]
  },
  {
   "cell_type": "code",
   "execution_count": 2,
   "metadata": {},
   "outputs": [],
   "source": [
    "# Define the parameters\n",
    "max_features = 10000  # Maximum vocab size\n",
    "seq_len = 200  # Maximum length of each review\n",
    "embedding_dim = 16\n",
    "batch_size = 32\n",
    "epochs = 10\n",
    "learning_rate = 0.001"
   ]
  },
  {
   "cell_type": "code",
   "execution_count": 3,
   "metadata": {},
   "outputs": [
    {
     "name": "stdout",
     "output_type": "stream",
     "text": [
      "(25000,) (25000, 1)\n",
      "(25000,) (25000, 1)\n"
     ]
    }
   ],
   "source": [
    "# Load the data\n",
    "(train_text, train_labels), (X_test, y_test) = imdb.load_data(num_words=max_features)\n",
    "\n",
    "# Reshape labels to column vector\n",
    "train_labels = train_labels.reshape(-1, 1)\n",
    "y_test = y_test.reshape(-1, 1)\n",
    "\n",
    "print(train_text.shape, train_labels.shape)\n",
    "print(X_test.shape, y_test.shape)"
   ]
  },
  {
   "cell_type": "code",
   "execution_count": 4,
   "metadata": {},
   "outputs": [
    {
     "name": "stdout",
     "output_type": "stream",
     "text": [
      "? yes some plots are a bit hard to follow and the bill does have a tendency to get violent but it is actually an engrossing show that i try not to miss a vast majority of the episodes are very exciting and quite tense and the acting is fairly good though i do miss ? taylor as inspector gina gold and todd ? as gabriel kent i will admit i prefer the older episodes to the newer episodes and it is a bit of a shame that the programme is now after the ? as i found it easier to watch when it was at 8 00 still why i like the bill is because not only it is engrossing but the ? at the end do make the next episode ? it is true though that it is more melodramatic than it was but i really like this programme as a programme that doesn't try to take itself too seriously 8 10 ? cox\n"
     ]
    }
   ],
   "source": [
    "# View a sample review\n",
    "sample = np.random.choice(train_text)\n",
    "# Get the word index for each word in the review\n",
    "word_to_idx = imdb.get_word_index()\n",
    "# Create a reverse word index\n",
    "idx_to_word = {idx: word for word, idx in word_to_idx.items()}\n",
    "\n",
    "# Convert the review to text\n",
    "review = ' '.join([idx_to_word.get(idx - 3, '?') for idx in sample])\n",
    "print(review)"
   ]
  },
  {
   "cell_type": "code",
   "execution_count": 5,
   "metadata": {},
   "outputs": [],
   "source": [
    "# Pad the sequences\n",
    "train_text = pad_sequences(train_text, seq_len)\n",
    "X_test = pad_sequences(X_test, seq_len)"
   ]
  },
  {
   "cell_type": "code",
   "execution_count": 6,
   "metadata": {},
   "outputs": [],
   "source": [
    "# Shuffle the data and split into training and validation sets\n",
    "# (20k training, 5k validation as per the TensorFlow tutorial)\n",
    "train_size = 20000\n",
    "random_perm = np.random.permutation(train_text.shape[0])\n",
    "train_text = train_text[random_perm]\n",
    "train_labels = train_labels[random_perm]\n",
    "\n",
    "X_train = train_text[:train_size]\n",
    "y_train = train_labels[:train_size]\n",
    "X_valid = train_text[train_size:]\n",
    "y_valid = train_labels[train_size:]"
   ]
  },
  {
   "cell_type": "code",
   "execution_count": 7,
   "metadata": {},
   "outputs": [],
   "source": [
    "# Define the model\n",
    "opt = Adam(learning_rate=learning_rate)\n",
    "model = Model(opt, cost=BinaryCrossEntropy(),\n",
    "              batch_size=batch_size,\n",
    "              metrics=['accuracy'])\n",
    "\n",
    "model.add_layer(Embedding(max_features, embedding_dim,\n",
    "                          input_shape=(batch_size, seq_len)))\n",
    "model.add_layer(GlobalAveragePooling1D())\n",
    "model.add_layer(Dense(1))\n",
    "model.add_layer(Sigmoid())\n",
    "\n",
    "model.initialize()"
   ]
  },
  {
   "cell_type": "code",
   "execution_count": 8,
   "metadata": {},
   "outputs": [
    {
     "name": "stdout",
     "output_type": "stream",
     "text": [
      "Model summary:\n",
      "_________________________________________________________________\n",
      "Layer Type                 Output Shape                   Param #\n",
      "=================================================================\n",
      "Embedding Layer           (None, 16, 200)                  160000\n",
      "GlobalAveragePooling1D    (None, 16)                            0\n",
      "Dense(1)                  (None, 1)                            17\n",
      "Sigmoid Activation        (None, 1)                             0\n",
      "=================================================================\n",
      "Total params: 160017\n"
     ]
    }
   ],
   "source": [
    "model.summary()"
   ]
  },
  {
   "cell_type": "code",
   "execution_count": 9,
   "metadata": {},
   "outputs": [
    {
     "name": "stderr",
     "output_type": "stream",
     "text": [
      "100%|██████████| 625/625 [00:07<00:00, 80.34it/s]\n"
     ]
    },
    {
     "name": "stdout",
     "output_type": "stream",
     "text": [
      "Epoch: 1/10, elapsed-time: 7.99s - loss: 0.5743 - accuracy: 0.7971 - val_loss: 0.5809 - val_accuracy: 0.7837 - \n"
     ]
    },
    {
     "name": "stderr",
     "output_type": "stream",
     "text": [
      "100%|██████████| 625/625 [00:07<00:00, 82.00it/s]\n"
     ]
    },
    {
     "name": "stdout",
     "output_type": "stream",
     "text": [
      "Epoch: 2/10, elapsed-time: 15.66s - loss: 0.5066 - accuracy: 0.8190 - val_loss: 0.4614 - val_accuracy: 0.8229 - \n"
     ]
    },
    {
     "name": "stderr",
     "output_type": "stream",
     "text": [
      "100%|██████████| 625/625 [00:07<00:00, 81.11it/s]\n"
     ]
    },
    {
     "name": "stdout",
     "output_type": "stream",
     "text": [
      "Epoch: 3/10, elapsed-time: 23.42s - loss: 0.4032 - accuracy: 0.8556 - val_loss: 0.3970 - val_accuracy: 0.8421 - \n"
     ]
    },
    {
     "name": "stderr",
     "output_type": "stream",
     "text": [
      "100%|██████████| 625/625 [00:07<00:00, 83.48it/s]\n"
     ]
    },
    {
     "name": "stdout",
     "output_type": "stream",
     "text": [
      "Epoch: 4/10, elapsed-time: 30.96s - loss: 0.3433 - accuracy: 0.8750 - val_loss: 0.3640 - val_accuracy: 0.8512 - \n"
     ]
    },
    {
     "name": "stderr",
     "output_type": "stream",
     "text": [
      "100%|██████████| 625/625 [00:07<00:00, 83.87it/s]\n"
     ]
    },
    {
     "name": "stdout",
     "output_type": "stream",
     "text": [
      "Epoch: 5/10, elapsed-time: 38.47s - loss: 0.3048 - accuracy: 0.8875 - val_loss: 0.3421 - val_accuracy: 0.8606 - \n"
     ]
    },
    {
     "name": "stderr",
     "output_type": "stream",
     "text": [
      "100%|██████████| 625/625 [00:07<00:00, 84.89it/s]\n"
     ]
    },
    {
     "name": "stdout",
     "output_type": "stream",
     "text": [
      "Epoch: 6/10, elapsed-time: 45.89s - loss: 0.2768 - accuracy: 0.8965 - val_loss: 0.3287 - val_accuracy: 0.8658 - \n"
     ]
    },
    {
     "name": "stderr",
     "output_type": "stream",
     "text": [
      "100%|██████████| 625/625 [00:07<00:00, 84.56it/s]\n"
     ]
    },
    {
     "name": "stdout",
     "output_type": "stream",
     "text": [
      "Epoch: 7/10, elapsed-time: 53.34s - loss: 0.2543 - accuracy: 0.9064 - val_loss: 0.3211 - val_accuracy: 0.8720 - \n"
     ]
    },
    {
     "name": "stderr",
     "output_type": "stream",
     "text": [
      "100%|██████████| 625/625 [00:07<00:00, 84.29it/s]\n"
     ]
    },
    {
     "name": "stdout",
     "output_type": "stream",
     "text": [
      "Epoch: 8/10, elapsed-time: 60.80s - loss: 0.2357 - accuracy: 0.9142 - val_loss: 0.3170 - val_accuracy: 0.8722 - \n"
     ]
    },
    {
     "name": "stderr",
     "output_type": "stream",
     "text": [
      "100%|██████████| 625/625 [00:07<00:00, 81.76it/s]\n"
     ]
    },
    {
     "name": "stdout",
     "output_type": "stream",
     "text": [
      "Epoch: 9/10, elapsed-time: 68.50s - loss: 0.2196 - accuracy: 0.9204 - val_loss: 0.3139 - val_accuracy: 0.8730 - \n"
     ]
    },
    {
     "name": "stderr",
     "output_type": "stream",
     "text": [
      "100%|██████████| 625/625 [00:07<00:00, 82.44it/s]"
     ]
    },
    {
     "name": "stdout",
     "output_type": "stream",
     "text": [
      "Epoch: 10/10, elapsed-time: 76.12s - loss: 0.2052 - accuracy: 0.9254 - val_loss: 0.3155 - val_accuracy: 0.8770 - \n"
     ]
    },
    {
     "name": "stderr",
     "output_type": "stream",
     "text": [
      "\n"
     ]
    }
   ],
   "source": [
    "history = model.train((X_train, y_train),\n",
    "                      validation_data=(X_valid, y_valid),\n",
    "                      epochs=epochs)"
   ]
  },
  {
   "cell_type": "code",
   "execution_count": 10,
   "metadata": {},
   "outputs": [
    {
     "data": {
      "image/png": "[encoded data removed]",
      "text/plain": [
       "<Figure size 1008x864 with 2 Axes>"
      ]
     },
     "metadata": {
      "needs_background": "light"
     },
     "output_type": "display_data"
    }
   ],
   "source": [
    "# Plot training history\n",
    "\n",
    "history.plot_history()"
   ]
  },
  {
   "cell_type": "code",
   "execution_count": 11,
   "metadata": {},
   "outputs": [
    {
     "name": "stdout",
     "output_type": "stream",
     "text": [
      "Test Loss: 0.3241\n",
      "Test Accuracy: 86.37%\n"
     ]
    }
   ],
   "source": [
    "# Evaluate on test data\n",
    "test_preds = model.get_predictions(X_test)\n",
    "test_labels = y_test[:test_preds.shape[0]]\n",
    "test_loss = BinaryCrossEntropy()(test_labels, test_preds)\n",
    "binary_preds = np.round(test_preds)\n",
    "test_acc = np.mean(binary_preds == test_labels)\n",
    "\n",
    "\n",
    "print(f'Test Loss: {test_loss:.4f}')\n",
    "print(f'Test Accuracy: {test_acc:.2%}')\n"
   ]
  }
 ],
 "metadata": {
  "kernelspec": {
   "display_name": "Python 3 (ipykernel)",
   "language": "python",
   "name": "python3"
  },
  "language_info": {
   "codemirror_mode": {
    "name": "ipython",
    "version": 3
   },
   "file_extension": ".py",
   "mimetype": "text/x-python",
   "name": "python",
   "nbconvert_exporter": "python",
   "pygments_lexer": "ipython3",
   "version": "3.9.16"
  }
 },
 "nbformat": 4,
 "nbformat_minor": 2
}
