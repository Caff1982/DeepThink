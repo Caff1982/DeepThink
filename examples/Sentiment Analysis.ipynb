{
 "cells": [
  {
   "cell_type": "code",
   "execution_count": 9,
   "metadata": {},
   "outputs": [],
   "source": [
    "import numpy as np\n",
    "import matplotlib.pyplot as plt\n",
    "from sklearn.manifold import TSNE\n",
    "from sklearn.metrics.pairwise import cosine_similarity\n",
    "\n",
    "from tensorflow.keras.datasets import imdb\n",
    "\n",
    "from deepthink.layers import EmbeddingLayer, GlobalAveragePoolingLayer, Dense, Dropout\n",
    "from deepthink.model import Model\n",
    "from deepthink.optimizers import Adam\n",
    "from deepthink.loss import BinaryCrossEntropy\n",
    "from deepthink.activations import Sigmoid\n",
    "from deepthink.utils import pad_sequences"
   ]
  },
  {
   "attachments": {},
   "cell_type": "markdown",
   "metadata": {},
   "source": [
    "## IMDB Sentiment Analysis\n",
    "\n",
    "The purpose of this notebook is to demonstrate text-classification using [sentiment analysis](https://en.wikipedia.org/wiki/Sentiment_analysis). This example is inspired by [this](https://www.tensorflow.org/tutorials/keras/text_classification) TensorFlow tutorial.\n",
    "\n",
    "#### IMDB Dataset\n",
    "\n",
    "The dataset used is the [Large Movie Review Dataset](https://ai.stanford.edu/~amaas/data/sentiment/), which consists of 50,000 movie reviews from [imdb.com](https://www.imdb.com/) split into 25,000 for training and 25,000 for testing. Each review is classed as positive or negative and the goal is to predict this from the review text. Reviews have been preprocessed, and each review is encoded as a sequence of word indexes (integers)."
   ]
  },
  {
   "cell_type": "code",
   "execution_count": 23,
   "metadata": {},
   "outputs": [],
   "source": [
    "import time\n",
    "\n",
    "import matplotlib.pyplot as plt\n",
    "from matplotlib.ticker import MaxNLocator\n",
    "\n",
    "from deepthink.metrics import (mean_squared_error,\n",
    "                               root_mean_squared_error,\n",
    "                               mean_absolute_error,\n",
    "                               accuracy,\n",
    "                               binary_accuracy)\n",
    "\n",
    "\n",
    "class History:\n",
    "    \"\"\"\n",
    "    A class to record model training history.\n",
    "\n",
    "    Initialized when Model.train is called, this class records the\n",
    "    model's performance after each epoch on train and validation\n",
    "    predictions. It will store the model's loss/cost automatically,\n",
    "    other metrics can be added using Model's 'metrics' argument.\n",
    "\n",
    "    The metrics are stored in a dictionary, 'history', where the\n",
    "    keys are the metrics and values are arrays recording performance\n",
    "    at each epoch. This is similar to Kera's History.history.\n",
    "\n",
    "    Training history can be visualized by calling 'plot_history'\n",
    "    once training has been completed.\n",
    "\n",
    "    Parameters\n",
    "    ----------\n",
    "    metrics : list\n",
    "        A list of the metrics to use, created during model\n",
    "        initialization. This should always contain the model's\n",
    "        cost/loss as first element. Other metrics are optional\n",
    "        and must be keys of the 'metric_dict' class attribute.\n",
    "    verbose : bool,default=True\n",
    "        Controls verbosity mode. If True a summary will be printed\n",
    "        each epoch, if set to False nothing is printed.\n",
    "    n_epochs : int,default=None\n",
    "        The number of training epochs, used for displaying updates.\n",
    "        This is a required argument when verbose is set to True.\n",
    "\n",
    "    Attributes\n",
    "    ----------\n",
    "    metric_dict : dict\n",
    "        A dictionary which maps strings to metric loss function.\n",
    "    \"\"\"\n",
    "\n",
    "    metric_dict = {\n",
    "        'accuracy': accuracy,\n",
    "        'binary_accuracy': binary_accuracy,\n",
    "        'RMSE': root_mean_squared_error,\n",
    "        'MAE': mean_absolute_error,\n",
    "        'MSE': mean_squared_error,\n",
    "        }\n",
    "\n",
    "    def __init__(self, metrics, verbose=True, n_epochs=None):\n",
    "        self.metrics = metrics\n",
    "        self.verbose = verbose\n",
    "        self.n_epochs = n_epochs\n",
    "\n",
    "        if self.verbose:\n",
    "            # Store training time for displaying updates\n",
    "            self.start_time = time.time()\n",
    "\n",
    "        self.history = {}\n",
    "        # Add 'loss' as default first metric\n",
    "        self.history['loss'] = []\n",
    "        self.history['val_loss'] = []\n",
    "        for metric in self.metrics[1:]:\n",
    "            # Add other optional metrics\n",
    "            self.history[metric] = []\n",
    "            self.history[f'val_{metric}'] = []\n",
    "\n",
    "    def on_epoch_end(self, y_train, train_preds, y_val, val_preds):\n",
    "        \"\"\"\n",
    "        This method calculates the current performance on all metrics\n",
    "        and stores them in the history dictionary. When verbose is set\n",
    "        to True an update is printed on screen.\n",
    "\n",
    "        Parameters\n",
    "        ----------\n",
    "        y_train : np.array\n",
    "            The y-target training values\n",
    "        train_preds : np.array\n",
    "            The model's training predictions\n",
    "        y_val : np.array\n",
    "            The y-target validation values\n",
    "        train_preds : np.array\n",
    "            The model's validation predictions\n",
    "        \"\"\"\n",
    "        # Get and store the model's loss/cost function\n",
    "        train_loss = self.metrics[0](y_train, train_preds)\n",
    "        val_loss = self.metrics[0](y_val, val_preds)\n",
    "        self.history['loss'].append(train_loss)\n",
    "        self.history['val_loss'].append(val_loss)\n",
    "\n",
    "        for metric in self.metrics[1:]:\n",
    "            # Get train & validation value for each metric\n",
    "            train_value = self.metric_dict[metric](y_train, train_preds)\n",
    "            val_value = self.metric_dict[metric](y_val, val_preds)\n",
    "            self.history[metric].append(train_value)\n",
    "            self.history[f'val_{metric}'].append(val_value)\n",
    "\n",
    "        if self.verbose:\n",
    "            # Add epoch progress and elapsed time to row variable\n",
    "            elapsed_time = time.time() - self.start_time\n",
    "            current_epoch = len(self.history['loss'])\n",
    "            row = f\"Epoch: {current_epoch}/{self.n_epochs}, \" + \\\n",
    "                  f\"elapsed-time: {elapsed_time:.2f}s - \"\n",
    "\n",
    "            # Add training cost/loss and all other metrics to row\n",
    "            row += f\"loss: {self.history['loss'][-1]:.4f} - \"\n",
    "            for metric in self.metrics[1:]:\n",
    "                last_value = self.history[metric][-1]\n",
    "                row += f\"{metric}: {last_value:.4f} - \"\n",
    "            # Add validation loss and metrics to row\n",
    "            row += f\"val_loss: {self.history['val_loss'][-1]:.4f} - \"\n",
    "            for metric in self.metrics[1:]:\n",
    "                last_value = self.history['val_' + metric][-1]\n",
    "                row += f\"val_{metric}: {last_value:.4f} - \"\n",
    "            # Display row\n",
    "            print(row)\n",
    "\n",
    "    def plot_history(self, display_image=True, save_fname=None):\n",
    "        \"\"\"\n",
    "        Display model training performance at each epoch.\n",
    "\n",
    "        Plots model cost/loss per epoch on training and validation.\n",
    "        If any additional metrics are added then it will plot loss\n",
    "        and one other metric.\n",
    "\n",
    "        Parameters\n",
    "        ----------\n",
    "        display_image : book,default=True\n",
    "            Boolean parameter to control whether the images is shown\n",
    "            or not\n",
    "        save_fname : str,default=None\n",
    "            Optional argument to save the image, if used it should be\n",
    "            the filename to save the image as.\n",
    "        \"\"\"\n",
    "        # Set figure-size depending on number of metrics\n",
    "        if len(self.metrics) == 1:\n",
    "            fig, axes = plt.subplots(1, figsize=(14, 8))\n",
    "            # Need to be able to index into axes\n",
    "            axes = [axes]\n",
    "        else:\n",
    "            fig, axes = plt.subplots(2, figsize=(14, 12))\n",
    "\n",
    "        x_labels = list(range(len(self.history['loss'])))\n",
    "        x_ticks = [i for i in range(len(self.history['loss']))]\n",
    "\n",
    "        # Plot the model's loss performance\n",
    "        axes[0].plot(self.history['loss'], label='Train loss')\n",
    "        axes[0].plot(self.history['val_loss'], label='Val loss')\n",
    "        axes[0].set_ylabel('Loss', fontsize='x-large')\n",
    "        axes[0].legend(fontsize='large', framealpha=1, fancybox=True)\n",
    "        axes[0].set_xticks(ticks=x_ticks, labels=x_labels)\n",
    "        # MaxNLocator used to dynamically set xtick locations\n",
    "        axes[0].xaxis.set_major_locator(MaxNLocator(20))\n",
    "\n",
    "        if len(self.metrics) > 1:\n",
    "            # Plot additional metric if included\n",
    "            metric = self.metrics[1]\n",
    "            axes[1].plot(self.history[metric], label=f'Train {metric}')\n",
    "            axes[1].plot(self.history[f'val_{metric}'], label=f'Val {metric}')\n",
    "            axes[1].set_ylabel(metric, fontsize='x-large')\n",
    "            axes[1].legend(fontsize='large', framealpha=1, fancybox=True)\n",
    "            axes[1].set_xticks(ticks=x_ticks, labels=x_labels)\n",
    "            axes[1].xaxis.set_major_locator(MaxNLocator(20))\n",
    "\n",
    "        plt.xlabel('Epoch', fontsize='large')\n",
    "        plt.legend(fontsize='large', framealpha=1, fancybox=True)\n",
    "        if save_fname:\n",
    "            plt.savefig(save_fname)\n",
    "        if display_image:\n",
    "            plt.show()\n"
   ]
  },
  {
   "cell_type": "code",
   "execution_count": 11,
   "metadata": {},
   "outputs": [],
   "source": [
    "# Define the parameters\n",
    "max_features = 10000  # Maximum vocab size\n",
    "seq_len = 200  # Maximum length of each review\n",
    "embedding_dim = 16\n",
    "batch_size = 32\n",
    "epochs = 10\n",
    "learning_rate = 0.001"
   ]
  },
  {
   "cell_type": "code",
   "execution_count": 13,
   "metadata": {},
   "outputs": [
    {
     "name": "stdout",
     "output_type": "stream",
     "text": [
      "(25000,) (25000, 1)\n",
      "(25000,) (25000, 1)\n"
     ]
    }
   ],
   "source": [
    "# Load the data\n",
    "(train_text, train_labels), (X_test, y_test) = imdb.load_data(num_words=max_features)\n",
    "\n",
    "# Reshape labels to column vector\n",
    "train_labels = train_labels.reshape(-1, 1)\n",
    "y_test = y_test.reshape(-1, 1)\n",
    "\n",
    "print(train_text.shape, train_labels.shape)\n",
    "print(X_test.shape, y_test.shape)"
   ]
  },
  {
   "cell_type": "code",
   "execution_count": 14,
   "metadata": {},
   "outputs": [
    {
     "name": "stdout",
     "output_type": "stream",
     "text": [
      "? anyone who is a sucker for 1920s jazz 1920s dress the ? and ultra ? ? e g me on all counts will want to like this movie but the sad fact is that that's all there is the plot is banal and obvious the acting mostly either awful or playing to the ? side of the goings on and when the whole ? over there is not much left but the impression of mirrors and smoke this is a beautifully made bad movie\n"
     ]
    }
   ],
   "source": [
    "# View a sample review\n",
    "sample = np.random.choice(train_text)\n",
    "# Get the word index for each word in the review\n",
    "word_to_idx = imdb.get_word_index()\n",
    "# Create a reverse word index\n",
    "idx_to_word = {idx: word for word, idx in word_to_idx.items()}\n",
    "\n",
    "# Convert the review to text\n",
    "review = ' '.join([idx_to_word.get(idx - 3, '?') for idx in sample])\n",
    "print(review)"
   ]
  },
  {
   "cell_type": "code",
   "execution_count": 16,
   "metadata": {},
   "outputs": [],
   "source": [
    "# Pad the sequences\n",
    "train_text = pad_sequences(train_text, seq_len)\n",
    "X_test = pad_sequences(X_test, seq_len)"
   ]
  },
  {
   "cell_type": "code",
   "execution_count": 17,
   "metadata": {},
   "outputs": [],
   "source": [
    "# Shuffle the data and split into training and validation sets\n",
    "# (20k training, 5k validation as per the TensorFlow tutorial)\n",
    "train_size = 20000\n",
    "random_perm = np.random.permutation(train_text.shape[0])\n",
    "train_text = train_text[random_perm]\n",
    "train_labels = train_labels[random_perm]\n",
    "\n",
    "X_train = train_text[:train_size]\n",
    "y_train = train_labels[:train_size]\n",
    "X_valid = train_text[train_size:]\n",
    "y_valid = train_labels[train_size:]"
   ]
  },
  {
   "cell_type": "code",
   "execution_count": 25,
   "metadata": {},
   "outputs": [],
   "source": [
    "# Define the model\n",
    "opt = Adam(learning_rate=learning_rate)\n",
    "model = Model(opt, cost=BinaryCrossEntropy(),\n",
    "              batch_size=batch_size,\n",
    "              metrics=['binary_accuracy'])\n",
    "\n",
    "model.add_layer(EmbeddingLayer(max_features, embedding_dim,\n",
    "                               input_shape=(batch_size, seq_len)))\n",
    "model.add_layer(GlobalAveragePoolingLayer())\n",
    "model.add_layer(Dense(1))\n",
    "model.add_layer(Sigmoid())\n",
    "\n",
    "model.initialize()"
   ]
  },
  {
   "cell_type": "code",
   "execution_count": 26,
   "metadata": {},
   "outputs": [
    {
     "name": "stdout",
     "output_type": "stream",
     "text": [
      "Model summary:\n",
      "_________________________________________________________________\n",
      "Layer Type                 Output Shape                   Param #\n",
      "=================================================================\n",
      "Embedding Layer           (None, 16, 200)                  160000\n",
      "GlobalAveragePooling      (None, 16)                            0\n",
      "Dense Layer               (None, 1)                            17\n",
      "Sigmoid Activation        (None, 1)                             0\n",
      "=================================================================\n",
      "Total params: 160,017\n"
     ]
    }
   ],
   "source": [
    "model.summary()"
   ]
  },
  {
   "cell_type": "code",
   "execution_count": 27,
   "metadata": {},
   "outputs": [],
   "source": [
    "# notebook version of tqdm used to display progress correctly in Jupyter\n",
    "from tqdm.notebook import tqdm"
   ]
  },
  {
   "cell_type": "code",
   "execution_count": 28,
   "metadata": {},
   "outputs": [
    {
     "data": {
      "application/vnd.jupyter.widget-view+json": {
       "model_id": "be04d4dbc08d4bcfa555fcfb25bcadb0",
       "version_major": 2,
       "version_minor": 0
      },
      "text/plain": [
       "  0%|          | 0/625 [00:00<?, ?it/s]"
      ]
     },
     "metadata": {},
     "output_type": "display_data"
    },
    {
     "name": "stdout",
     "output_type": "stream",
     "text": [
      "Epoch: 1/10, elapsed-time: 8.25s - loss: 0.5807 - accuracy_binary: 0.7789 - val_loss: 0.5874 - val_accuracy_binary: 0.7768 - \n"
     ]
    },
    {
     "data": {
      "application/vnd.jupyter.widget-view+json": {
       "model_id": "e1d0d64e4324452eb36649e50fa63b78",
       "version_major": 2,
       "version_minor": 0
      },
      "text/plain": [
       "  0%|          | 0/625 [00:00<?, ?it/s]"
      ]
     },
     "metadata": {},
     "output_type": "display_data"
    },
    {
     "name": "stdout",
     "output_type": "stream",
     "text": [
      "Epoch: 2/10, elapsed-time: 16.55s - loss: 0.5121 - accuracy_binary: 0.8133 - val_loss: 0.4623 - val_accuracy_binary: 0.8291 - \n"
     ]
    },
    {
     "data": {
      "application/vnd.jupyter.widget-view+json": {
       "model_id": "03b81f18f86943349867209cc9ec82da",
       "version_major": 2,
       "version_minor": 0
      },
      "text/plain": [
       "  0%|          | 0/625 [00:00<?, ?it/s]"
      ]
     },
     "metadata": {},
     "output_type": "display_data"
    },
    {
     "name": "stdout",
     "output_type": "stream",
     "text": [
      "Epoch: 3/10, elapsed-time: 24.73s - loss: 0.4080 - accuracy_binary: 0.8538 - val_loss: 0.3929 - val_accuracy_binary: 0.8492 - \n"
     ]
    },
    {
     "data": {
      "application/vnd.jupyter.widget-view+json": {
       "model_id": "699daf90ffd44f6ab433f4c1f1107b66",
       "version_major": 2,
       "version_minor": 0
      },
      "text/plain": [
       "  0%|          | 0/625 [00:00<?, ?it/s]"
      ]
     },
     "metadata": {},
     "output_type": "display_data"
    },
    {
     "name": "stdout",
     "output_type": "stream",
     "text": [
      "Epoch: 4/10, elapsed-time: 32.64s - loss: 0.3479 - accuracy_binary: 0.8730 - val_loss: 0.3534 - val_accuracy_binary: 0.8570 - \n"
     ]
    },
    {
     "data": {
      "application/vnd.jupyter.widget-view+json": {
       "model_id": "0b58c666c43a437b91a44ba3d15f4e4f",
       "version_major": 2,
       "version_minor": 0
      },
      "text/plain": [
       "  0%|          | 0/625 [00:00<?, ?it/s]"
      ]
     },
     "metadata": {},
     "output_type": "display_data"
    },
    {
     "name": "stdout",
     "output_type": "stream",
     "text": [
      "Epoch: 5/10, elapsed-time: 40.94s - loss: 0.3096 - accuracy_binary: 0.8848 - val_loss: 0.3332 - val_accuracy_binary: 0.8586 - \n"
     ]
    },
    {
     "data": {
      "application/vnd.jupyter.widget-view+json": {
       "model_id": "6c6f6dad8fd946e3b593fa0388306a8e",
       "version_major": 2,
       "version_minor": 0
      },
      "text/plain": [
       "  0%|          | 0/625 [00:00<?, ?it/s]"
      ]
     },
     "metadata": {},
     "output_type": "display_data"
    },
    {
     "name": "stdout",
     "output_type": "stream",
     "text": [
      "Epoch: 6/10, elapsed-time: 48.81s - loss: 0.2819 - accuracy_binary: 0.8964 - val_loss: 0.3165 - val_accuracy_binary: 0.8698 - \n"
     ]
    },
    {
     "data": {
      "application/vnd.jupyter.widget-view+json": {
       "model_id": "5481354adb5b4973bead994ffba15e81",
       "version_major": 2,
       "version_minor": 0
      },
      "text/plain": [
       "  0%|          | 0/625 [00:00<?, ?it/s]"
      ]
     },
     "metadata": {},
     "output_type": "display_data"
    },
    {
     "name": "stdout",
     "output_type": "stream",
     "text": [
      "Epoch: 7/10, elapsed-time: 56.81s - loss: 0.2596 - accuracy_binary: 0.9042 - val_loss: 0.3069 - val_accuracy_binary: 0.8744 - \n"
     ]
    },
    {
     "data": {
      "application/vnd.jupyter.widget-view+json": {
       "model_id": "24683b8335f748399cfea31f9324e080",
       "version_major": 2,
       "version_minor": 0
      },
      "text/plain": [
       "  0%|          | 0/625 [00:00<?, ?it/s]"
      ]
     },
     "metadata": {},
     "output_type": "display_data"
    },
    {
     "name": "stdout",
     "output_type": "stream",
     "text": [
      "Epoch: 8/10, elapsed-time: 64.72s - loss: 0.2409 - accuracy_binary: 0.9122 - val_loss: 0.3054 - val_accuracy_binary: 0.8718 - \n"
     ]
    },
    {
     "data": {
      "application/vnd.jupyter.widget-view+json": {
       "model_id": "43462df422244b2b8bd8dc9f7931dcb6",
       "version_major": 2,
       "version_minor": 0
      },
      "text/plain": [
       "  0%|          | 0/625 [00:00<?, ?it/s]"
      ]
     },
     "metadata": {},
     "output_type": "display_data"
    },
    {
     "name": "stdout",
     "output_type": "stream",
     "text": [
      "Epoch: 9/10, elapsed-time: 72.84s - loss: 0.2250 - accuracy_binary: 0.9175 - val_loss: 0.2982 - val_accuracy_binary: 0.8790 - \n"
     ]
    },
    {
     "data": {
      "application/vnd.jupyter.widget-view+json": {
       "model_id": "0a1e3b06abdb40cab098df7fdc3caad6",
       "version_major": 2,
       "version_minor": 0
      },
      "text/plain": [
       "  0%|          | 0/625 [00:00<?, ?it/s]"
      ]
     },
     "metadata": {},
     "output_type": "display_data"
    },
    {
     "name": "stdout",
     "output_type": "stream",
     "text": [
      "Epoch: 10/10, elapsed-time: 80.91s - loss: 0.2109 - accuracy_binary: 0.9235 - val_loss: 0.2971 - val_accuracy_binary: 0.8774 - \n"
     ]
    }
   ],
   "source": [
    "history = model.train((X_train, y_train),\n",
    "                      validation_data=(X_valid, y_valid),\n",
    "                      epochs=epochs)"
   ]
  },
  {
   "cell_type": "code",
   "execution_count": 29,
   "metadata": {},
   "outputs": [
    {
     "data": {
      "image/png": "[encoded data removed]",
      "text/plain": [
       "<Figure size 1008x864 with 2 Axes>"
      ]
     },
     "metadata": {
      "needs_background": "light"
     },
     "output_type": "display_data"
    }
   ],
   "source": [
    "# Plot training history\n",
    "plt.style.use('ggplot')\n",
    "\n",
    "history.plot_history()"
   ]
  },
  {
   "cell_type": "code",
   "execution_count": 30,
   "metadata": {},
   "outputs": [
    {
     "name": "stdout",
     "output_type": "stream",
     "text": [
      "Test Loss: 0.3230\n",
      "Test Accuracy: 86.28%\n"
     ]
    }
   ],
   "source": [
    "# Evaluate on test data\n",
    "test_preds = model.get_predictions(X_test)\n",
    "test_labels = y_test[:test_preds.shape[0]]\n",
    "test_loss = BinaryCrossEntropy()(test_labels, test_preds)\n",
    "binary_preds = np.round(test_preds)\n",
    "test_acc = np.mean(binary_preds == test_labels)\n",
    "\n",
    "\n",
    "print(f'Test Loss: {test_loss:.4f}')\n",
    "print(f'Test Accuracy: {test_acc:.2%}')\n"
   ]
  },
  {
   "cell_type": "code",
   "execution_count": null,
   "metadata": {},
   "outputs": [],
   "source": []
  }
 ],
 "metadata": {
  "kernelspec": {
   "display_name": "Python 3 (ipykernel)",
   "language": "python",
   "name": "python3"
  },
  "language_info": {
   "codemirror_mode": {
    "name": "ipython",
    "version": 3
   },
   "file_extension": ".py",
   "mimetype": "text/x-python",
   "name": "python",
   "nbconvert_exporter": "python",
   "pygments_lexer": "ipython3",
   "version": "3.9.16"
  }
 },
 "nbformat": 4,
 "nbformat_minor": 2
}
