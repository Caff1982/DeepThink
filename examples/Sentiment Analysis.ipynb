{
 "cells": [
  {
   "cell_type": "code",
   "execution_count": 1,
   "metadata": {},
   "outputs": [],
   "source": [
    "import os\n",
    "# Ignore TensorFlow warnings\n",
    "os.environ['TF_CPP_MIN_LOG_LEVEL'] = '3' \n",
    "\n",
    "import numpy as np\n",
    "import matplotlib.pyplot as plt\n",
    "from sklearn.manifold import TSNE\n",
    "from sklearn.metrics.pairwise import cosine_similarity\n",
    "\n",
    "from tensorflow.keras.datasets import imdb\n",
    "\n",
    "from deepthink.layers import EmbeddingLayer, GlobalAveragePooling, Dense\n",
    "from deepthink.model import Model\n",
    "from deepthink.optimizers import Adam\n",
    "from deepthink.loss import BinaryCrossEntropy\n",
    "from deepthink.activations import Sigmoid\n",
    "from deepthink.utils import pad_sequences\n",
    "\n",
    "# Set default matplotlib style\n",
    "plt.style.use('ggplot')"
   ]
  },
  {
   "cell_type": "markdown",
   "metadata": {},
   "source": [
    "## IMDB Sentiment Analysis\n",
    "\n",
    "The purpose of this notebook is to demonstrate text-classification using [sentiment analysis](https://en.wikipedia.org/wiki/Sentiment_analysis). This example is inspired by [this](https://www.tensorflow.org/tutorials/keras/text_classification) TensorFlow tutorial.\n",
    "\n",
    "#### IMDB Dataset\n",
    "\n",
    "The dataset used is the [Large Movie Review Dataset](https://ai.stanford.edu/~amaas/data/sentiment/), which consists of 50,000 movie reviews from [imdb.com](https://www.imdb.com/) split into 25,000 for training and 25,000 for testing. Each review is classed as positive or negative and the goal is to predict this from the review text. Reviews have been preprocessed, and each review is encoded as a sequence of word indexes (integers)."
   ]
  },
  {
   "cell_type": "code",
   "execution_count": 2,
   "metadata": {},
   "outputs": [],
   "source": [
    "# Define the parameters\n",
    "max_features = 10000  # Maximum vocab size\n",
    "seq_len = 200  # Maximum length of each review\n",
    "embedding_dim = 16\n",
    "batch_size = 32\n",
    "epochs = 10\n",
    "learning_rate = 0.001"
   ]
  },
  {
   "cell_type": "code",
   "execution_count": 3,
   "metadata": {},
   "outputs": [
    {
     "name": "stdout",
     "output_type": "stream",
     "text": [
      "(25000,) (25000, 1)\n",
      "(25000,) (25000, 1)\n"
     ]
    }
   ],
   "source": [
    "# Load the data\n",
    "(train_text, train_labels), (X_test, y_test) = imdb.load_data(num_words=max_features)\n",
    "\n",
    "# Reshape labels to column vector\n",
    "train_labels = train_labels.reshape(-1, 1)\n",
    "y_test = y_test.reshape(-1, 1)\n",
    "\n",
    "print(train_text.shape, train_labels.shape)\n",
    "print(X_test.shape, y_test.shape)"
   ]
  },
  {
   "cell_type": "code",
   "execution_count": 4,
   "metadata": {},
   "outputs": [
    {
     "name": "stdout",
     "output_type": "stream",
     "text": [
      "? samuel ? pickup on south street is ? a red scare movie devoid of ? in which the communist threat is nothing more than the ? that ? the plot ? richard widmark ? loose woman jean peters of her ? containing a strip of ? ? to either of them it ? secrets vital to the cold war peters as it happens was under ? by fbi agents who are as ? by the ? as the man who's running her cowardly ? richard ? in trying to retrieve the precious film both sides ? the help of thelma ritter a ? old jane who's always on the ? and willing to sell what she hears br br fuller draws from an ? palette of ? and ? in telling the story which becomes a race against the clock of ? brutality from the ? to the ? his ? manhattan takes on a ? sheen that's almost ? the love scenes between peters and widmark become an unstable mixture of the ? and the tender and they're scored to again a song introduced by ? ? in road house also starring widmark the pace ? for ? beautifully written and played death scene among the most poignant vignettes in all noir and a kind of ? ? in a film ? of sentimentality this is writer director ? only work in the ? confines of the noir cycle his later ? of american ? the ? ? the naked kiss underworld u s a never resulted in a ? as satisfying as pickup on south street\n"
     ]
    }
   ],
   "source": [
    "# View a sample review\n",
    "sample = np.random.choice(train_text)\n",
    "# Get the word index for each word in the review\n",
    "word_to_idx = imdb.get_word_index()\n",
    "# Create a reverse word index\n",
    "idx_to_word = {idx: word for word, idx in word_to_idx.items()}\n",
    "\n",
    "# Convert the review to text\n",
    "review = ' '.join([idx_to_word.get(idx - 3, '?') for idx in sample])\n",
    "print(review)"
   ]
  },
  {
   "cell_type": "code",
   "execution_count": 5,
   "metadata": {},
   "outputs": [],
   "source": [
    "# Pad the sequences\n",
    "train_text = pad_sequences(train_text, seq_len)\n",
    "X_test = pad_sequences(X_test, seq_len)"
   ]
  },
  {
   "cell_type": "code",
   "execution_count": 6,
   "metadata": {},
   "outputs": [],
   "source": [
    "# Shuffle the data and split into training and validation sets\n",
    "# (20k training, 5k validation as per the TensorFlow tutorial)\n",
    "train_size = 20000\n",
    "random_perm = np.random.permutation(train_text.shape[0])\n",
    "train_text = train_text[random_perm]\n",
    "train_labels = train_labels[random_perm]\n",
    "\n",
    "X_train = train_text[:train_size]\n",
    "y_train = train_labels[:train_size]\n",
    "X_valid = train_text[train_size:]\n",
    "y_valid = train_labels[train_size:]"
   ]
  },
  {
   "cell_type": "code",
   "execution_count": 7,
   "metadata": {},
   "outputs": [],
   "source": [
    "# Define the model\n",
    "opt = Adam(learning_rate=learning_rate)\n",
    "model = Model(opt, cost=BinaryCrossEntropy(),\n",
    "              batch_size=batch_size,\n",
    "              metrics=['binary_accuracy'])\n",
    "\n",
    "model.add_layer(EmbeddingLayer(max_features, embedding_dim,\n",
    "                               input_shape=(batch_size, seq_len)))\n",
    "model.add_layer(GlobalAveragePooling())\n",
    "model.add_layer(Dense(1))\n",
    "model.add_layer(Sigmoid())\n",
    "\n",
    "model.initialize()"
   ]
  },
  {
   "cell_type": "code",
   "execution_count": 8,
   "metadata": {},
   "outputs": [
    {
     "name": "stdout",
     "output_type": "stream",
     "text": [
      "Model summary:\n",
      "_________________________________________________________________\n",
      "Layer Type                 Output Shape                   Param #\n",
      "=================================================================\n",
      "Embedding Layer           (None, 16, 200)                  160000\n",
      "GlobalAveragePooling      (None, 16)                            0\n",
      "Dense(1)                  (None, 1)                            17\n",
      "Sigmoid Activation        (None, 1)                             0\n",
      "=================================================================\n",
      "Total params: 160017\n"
     ]
    }
   ],
   "source": [
    "model.summary()"
   ]
  },
  {
   "cell_type": "code",
   "execution_count": 9,
   "metadata": {},
   "outputs": [
    {
     "name": "stderr",
     "output_type": "stream",
     "text": [
      "100%|█████████████████████████████████████████████████████████████████████████| 625/625 [00:07<00:00, 82.46it/s]\n"
     ]
    },
    {
     "name": "stdout",
     "output_type": "stream",
     "text": [
      "Epoch: 1/10, elapsed-time: 7.80s - loss: 0.5803 - binary_accuracy: 0.7782 - val_loss: 0.5903 - val_binary_accuracy: 0.7620 - \n"
     ]
    },
    {
     "name": "stderr",
     "output_type": "stream",
     "text": [
      "100%|█████████████████████████████████████████████████████████████████████████| 625/625 [00:07<00:00, 79.45it/s]\n"
     ]
    },
    {
     "name": "stdout",
     "output_type": "stream",
     "text": [
      "Epoch: 2/10, elapsed-time: 15.71s - loss: 0.5117 - binary_accuracy: 0.8139 - val_loss: 0.4686 - val_binary_accuracy: 0.8289 - \n"
     ]
    },
    {
     "name": "stderr",
     "output_type": "stream",
     "text": [
      "100%|█████████████████████████████████████████████████████████████████████████| 625/625 [00:07<00:00, 84.02it/s]\n"
     ]
    },
    {
     "name": "stdout",
     "output_type": "stream",
     "text": [
      "Epoch: 3/10, elapsed-time: 23.20s - loss: 0.4056 - binary_accuracy: 0.8540 - val_loss: 0.4003 - val_binary_accuracy: 0.8470 - \n"
     ]
    },
    {
     "name": "stderr",
     "output_type": "stream",
     "text": [
      "100%|█████████████████████████████████████████████████████████████████████████| 625/625 [00:07<00:00, 83.49it/s]\n"
     ]
    },
    {
     "name": "stdout",
     "output_type": "stream",
     "text": [
      "Epoch: 4/10, elapsed-time: 30.73s - loss: 0.3447 - binary_accuracy: 0.8737 - val_loss: 0.3662 - val_binary_accuracy: 0.8554 - \n"
     ]
    },
    {
     "name": "stderr",
     "output_type": "stream",
     "text": [
      "100%|█████████████████████████████████████████████████████████████████████████| 625/625 [00:07<00:00, 83.79it/s]\n"
     ]
    },
    {
     "name": "stdout",
     "output_type": "stream",
     "text": [
      "Epoch: 5/10, elapsed-time: 38.23s - loss: 0.3057 - binary_accuracy: 0.8868 - val_loss: 0.3466 - val_binary_accuracy: 0.8588 - \n"
     ]
    },
    {
     "name": "stderr",
     "output_type": "stream",
     "text": [
      "100%|█████████████████████████████████████████████████████████████████████████| 625/625 [00:07<00:00, 82.77it/s]\n"
     ]
    },
    {
     "name": "stdout",
     "output_type": "stream",
     "text": [
      "Epoch: 6/10, elapsed-time: 45.84s - loss: 0.2772 - binary_accuracy: 0.8975 - val_loss: 0.3344 - val_binary_accuracy: 0.8628 - \n"
     ]
    },
    {
     "name": "stderr",
     "output_type": "stream",
     "text": [
      "100%|█████████████████████████████████████████████████████████████████████████| 625/625 [00:07<00:00, 82.74it/s]\n"
     ]
    },
    {
     "name": "stdout",
     "output_type": "stream",
     "text": [
      "Epoch: 7/10, elapsed-time: 53.45s - loss: 0.2550 - binary_accuracy: 0.9074 - val_loss: 0.3280 - val_binary_accuracy: 0.8630 - \n"
     ]
    },
    {
     "name": "stderr",
     "output_type": "stream",
     "text": [
      "100%|█████████████████████████████████████████████████████████████████████████| 625/625 [00:07<00:00, 84.37it/s]\n"
     ]
    },
    {
     "name": "stdout",
     "output_type": "stream",
     "text": [
      "Epoch: 8/10, elapsed-time: 60.91s - loss: 0.2363 - binary_accuracy: 0.9147 - val_loss: 0.3231 - val_binary_accuracy: 0.8658 - \n"
     ]
    },
    {
     "name": "stderr",
     "output_type": "stream",
     "text": [
      "100%|█████████████████████████████████████████████████████████████████████████| 625/625 [00:07<00:00, 84.17it/s]\n"
     ]
    },
    {
     "name": "stdout",
     "output_type": "stream",
     "text": [
      "Epoch: 9/10, elapsed-time: 68.38s - loss: 0.2202 - binary_accuracy: 0.9195 - val_loss: 0.3220 - val_binary_accuracy: 0.8670 - \n"
     ]
    },
    {
     "name": "stderr",
     "output_type": "stream",
     "text": [
      "100%|█████████████████████████████████████████████████████████████████████████| 625/625 [00:07<00:00, 84.46it/s]"
     ]
    },
    {
     "name": "stdout",
     "output_type": "stream",
     "text": [
      "Epoch: 10/10, elapsed-time: 75.83s - loss: 0.2063 - binary_accuracy: 0.9253 - val_loss: 0.3219 - val_binary_accuracy: 0.8670 - \n"
     ]
    },
    {
     "name": "stderr",
     "output_type": "stream",
     "text": [
      "\n"
     ]
    }
   ],
   "source": [
    "history = model.train((X_train, y_train),\n",
    "                      validation_data=(X_valid, y_valid),\n",
    "                      epochs=epochs)"
   ]
  },
  {
   "cell_type": "code",
   "execution_count": 12,
   "metadata": {},
   "outputs": [
    {
     "data": {
      "image/png": "[encoded data removed]",
      "text/plain": [
       "<Figure size 1008x864 with 2 Axes>"
      ]
     },
     "metadata": {
      "needs_background": "light"
     },
     "output_type": "display_data"
    }
   ],
   "source": [
    "# Plot training history\n",
    "\n",
    "history.plot_history()"
   ]
  },
  {
   "cell_type": "code",
   "execution_count": 13,
   "metadata": {},
   "outputs": [
    {
     "name": "stdout",
     "output_type": "stream",
     "text": [
      "Test Loss: 0.3238\n",
      "Test Accuracy: 86.43%\n"
     ]
    }
   ],
   "source": [
    "# Evaluate on test data\n",
    "test_preds = model.get_predictions(X_test)\n",
    "test_labels = y_test[:test_preds.shape[0]]\n",
    "test_loss = BinaryCrossEntropy()(test_labels, test_preds)\n",
    "binary_preds = np.round(test_preds)\n",
    "test_acc = np.mean(binary_preds == test_labels)\n",
    "\n",
    "\n",
    "print(f'Test Loss: {test_loss:.4f}')\n",
    "print(f'Test Accuracy: {test_acc:.2%}')\n"
   ]
  },
  {
   "cell_type": "code",
   "execution_count": null,
   "metadata": {},
   "outputs": [],
   "source": []
  }
 ],
 "metadata": {
  "kernelspec": {
   "display_name": "Python 3 (ipykernel)",
   "language": "python",
   "name": "python3"
  },
  "language_info": {
   "codemirror_mode": {
    "name": "ipython",
    "version": 3
   },
   "file_extension": ".py",
   "mimetype": "text/x-python",
   "name": "python",
   "nbconvert_exporter": "python",
   "pygments_lexer": "ipython3",
   "version": "3.9.16"
  }
 },
 "nbformat": 4,
 "nbformat_minor": 2
}
