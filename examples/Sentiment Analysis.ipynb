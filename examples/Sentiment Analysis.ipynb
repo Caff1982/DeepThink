{
 "cells": [
  {
   "cell_type": "code",
   "execution_count": 1,
   "metadata": {},
   "outputs": [],
   "source": [
    "import os\n",
    "# Ignore TensorFlow warnings\n",
    "os.environ['TF_CPP_MIN_LOG_LEVEL'] = '3' \n",
    "\n",
    "import numpy as np\n",
    "import matplotlib.pyplot as plt\n",
    "from sklearn.manifold import TSNE\n",
    "from sklearn.metrics.pairwise import cosine_similarity\n",
    "\n",
    "from tensorflow.keras.datasets import imdb\n",
    "\n",
    "from deepthink.layers import Embedding, GlobalAveragePooling1D, Dense\n",
    "from deepthink.model import Model\n",
    "from deepthink.optimizers import Adam\n",
    "from deepthink.loss import BinaryCrossEntropy\n",
    "from deepthink.activations import Sigmoid\n",
    "from deepthink.utils import pad_sequences\n",
    "\n",
    "# Set default matplotlib style\n",
    "plt.style.use('ggplot')"
   ]
  },
  {
   "attachments": {},
   "cell_type": "markdown",
   "metadata": {},
   "source": [
    "## IMDB Sentiment Analysis\n",
    "\n",
    "The purpose of this notebook is to demonstrate text-classification using [sentiment analysis](https://en.wikipedia.org/wiki/Sentiment_analysis). This example is inspired by [this](https://www.tensorflow.org/tutorials/keras/text_classification) TensorFlow tutorial.\n",
    "\n",
    "#### IMDB Dataset\n",
    "\n",
    "The dataset used is the [Large Movie Review Dataset](https://ai.stanford.edu/~amaas/data/sentiment/), which consists of 50,000 movie reviews from [imdb.com](https://www.imdb.com/) split into 25,000 for training and 25,000 for testing. Each review is classed as positive or negative (1 or 0 respectively) and the goal is to predict this from the review text. Reviews have been preprocessed, and each review is encoded as a sequence of word indexes (integers)."
   ]
  },
  {
   "cell_type": "code",
   "execution_count": 2,
   "metadata": {},
   "outputs": [],
   "source": [
    "# Define the parameters\n",
    "max_features = 10000  # Maximum vocab size\n",
    "seq_len = 200  # Maximum length of each review\n",
    "embedding_dim = 16\n",
    "batch_size = 32\n",
    "epochs = 10\n",
    "learning_rate = 0.001"
   ]
  },
  {
   "cell_type": "code",
   "execution_count": 3,
   "metadata": {},
   "outputs": [
    {
     "name": "stdout",
     "output_type": "stream",
     "text": [
      "(25000,) (25000, 1)\n",
      "(25000,) (25000, 1)\n"
     ]
    }
   ],
   "source": [
    "# Load the data\n",
    "(train_text, train_labels), (X_test, y_test) = imdb.load_data(num_words=max_features)\n",
    "\n",
    "# Reshape labels to column vector\n",
    "train_labels = train_labels.reshape(-1, 1)\n",
    "y_test = y_test.reshape(-1, 1)\n",
    "\n",
    "print(train_text.shape, train_labels.shape)\n",
    "print(X_test.shape, y_test.shape)"
   ]
  },
  {
   "cell_type": "code",
   "execution_count": 4,
   "metadata": {},
   "outputs": [
    {
     "name": "stdout",
     "output_type": "stream",
     "text": [
      "? dark rising is your typical bad obviously quickly produced horror sci fi fantasy movie it has a strange unexplained plot with holes so big you could fit an elephant through them most of the time i didn't know what the hell was going on but it didn't really matter it was a simple demon hunter returns from hell dimension to save ? story with confusing stuff added on about witches and a book of evil with plot elements and characters who make no sense or disappear totally for no reason the acting is bad but there honestly is not much they can do with this script i am guessing there is a couple topless scenes which is probably the only reason this bad movie got made like so many other bad movies give this one a pass unless there is nothing else on t v\n"
     ]
    }
   ],
   "source": [
    "# View a sample review\n",
    "sample = np.random.choice(train_text)\n",
    "# Get the word index for each word in the review\n",
    "word_to_idx = imdb.get_word_index()\n",
    "# Create a reverse word index\n",
    "idx_to_word = {idx: word for word, idx in word_to_idx.items()}\n",
    "\n",
    "# Convert the review to text\n",
    "review = ' '.join([idx_to_word.get(idx - 3, '?') for idx in sample])\n",
    "print(review)"
   ]
  },
  {
   "cell_type": "code",
   "execution_count": 5,
   "metadata": {},
   "outputs": [],
   "source": [
    "# Pad the sequences\n",
    "train_text = pad_sequences(train_text, seq_len)\n",
    "X_test = pad_sequences(X_test, seq_len)"
   ]
  },
  {
   "cell_type": "code",
   "execution_count": 6,
   "metadata": {},
   "outputs": [],
   "source": [
    "# Shuffle the data and split into training and validation sets\n",
    "# (20k training, 5k validation as per the TensorFlow tutorial)\n",
    "train_size = 20000\n",
    "random_perm = np.random.permutation(train_text.shape[0])\n",
    "train_text = train_text[random_perm]\n",
    "train_labels = train_labels[random_perm]\n",
    "\n",
    "X_train = train_text[:train_size]\n",
    "y_train = train_labels[:train_size]\n",
    "X_valid = train_text[train_size:]\n",
    "y_valid = train_labels[train_size:]"
   ]
  },
  {
   "cell_type": "code",
   "execution_count": 7,
   "metadata": {},
   "outputs": [
    {
     "name": "stdout",
     "output_type": "stream",
     "text": [
      "X_train: (20000, 200)\n",
      "y_train: (20000, 1)\n",
      "X_valid: (5000, 200)\n",
      "y_valid: (5000, 1)\n"
     ]
    }
   ],
   "source": [
    "print('X_train:', X_train.shape)\n",
    "print('y_train:', y_train.shape)\n",
    "print('X_valid:', X_valid.shape)\n",
    "print('y_valid:', y_valid.shape)"
   ]
  },
  {
   "cell_type": "code",
   "execution_count": 8,
   "metadata": {},
   "outputs": [],
   "source": [
    "# Define the model\n",
    "opt = Adam(learning_rate=learning_rate)\n",
    "model = Model(opt, cost=BinaryCrossEntropy(),\n",
    "              batch_size=batch_size,\n",
    "              metrics=['accuracy'])\n",
    "\n",
    "model.add_layer(Embedding(max_features, embedding_dim,\n",
    "                          input_shape=(batch_size, seq_len)))\n",
    "model.add_layer(GlobalAveragePooling1D())\n",
    "model.add_layer(Dense(1))\n",
    "model.add_layer(Sigmoid())\n",
    "\n",
    "model.initialize()"
   ]
  },
  {
   "cell_type": "code",
   "execution_count": 9,
   "metadata": {},
   "outputs": [
    {
     "name": "stdout",
     "output_type": "stream",
     "text": [
      "Model summary:\n",
      "_________________________________________________________________\n",
      "Layer Type                 Output Shape                   Param #\n",
      "=================================================================\n",
      "Embedding Layer           (None, 16, 200)                  160000\n",
      "GlobalAveragePooling1D    (None, 16)                            0\n",
      "Dense(1)                  (None, 1)                            17\n",
      "Sigmoid Activation        (None, 1)                             0\n",
      "=================================================================\n",
      "Total params: 160017\n"
     ]
    }
   ],
   "source": [
    "model.summary()"
   ]
  },
  {
   "cell_type": "code",
   "execution_count": 10,
   "metadata": {},
   "outputs": [
    {
     "name": "stderr",
     "output_type": "stream",
     "text": [
      "100%|██████████| 625/625 [00:07<00:00, 82.86it/s]\n"
     ]
    },
    {
     "name": "stdout",
     "output_type": "stream",
     "text": [
      "Epoch: 1/10, elapsed-time: 7.75s - loss: 0.5806 - accuracy: 0.7927 - val_loss: 0.5832 - val_accuracy: 0.7855 - \n"
     ]
    },
    {
     "name": "stderr",
     "output_type": "stream",
     "text": [
      "100%|██████████| 625/625 [00:07<00:00, 80.35it/s]\n"
     ]
    },
    {
     "name": "stdout",
     "output_type": "stream",
     "text": [
      "Epoch: 2/10, elapsed-time: 15.58s - loss: 0.5128 - accuracy: 0.8157 - val_loss: 0.4577 - val_accuracy: 0.8313 - \n"
     ]
    },
    {
     "name": "stderr",
     "output_type": "stream",
     "text": [
      "100%|██████████| 625/625 [00:07<00:00, 83.37it/s]\n"
     ]
    },
    {
     "name": "stdout",
     "output_type": "stream",
     "text": [
      "Epoch: 3/10, elapsed-time: 23.13s - loss: 0.4078 - accuracy: 0.8545 - val_loss: 0.3912 - val_accuracy: 0.8476 - \n"
     ]
    },
    {
     "name": "stderr",
     "output_type": "stream",
     "text": [
      "100%|██████████| 625/625 [00:07<00:00, 81.06it/s]\n"
     ]
    },
    {
     "name": "stdout",
     "output_type": "stream",
     "text": [
      "Epoch: 4/10, elapsed-time: 30.89s - loss: 0.3473 - accuracy: 0.8733 - val_loss: 0.3545 - val_accuracy: 0.8580 - \n"
     ]
    },
    {
     "name": "stderr",
     "output_type": "stream",
     "text": [
      "100%|██████████| 625/625 [00:07<00:00, 81.33it/s]\n"
     ]
    },
    {
     "name": "stdout",
     "output_type": "stream",
     "text": [
      "Epoch: 5/10, elapsed-time: 38.63s - loss: 0.3090 - accuracy: 0.8851 - val_loss: 0.3327 - val_accuracy: 0.8640 - \n"
     ]
    },
    {
     "name": "stderr",
     "output_type": "stream",
     "text": [
      "100%|██████████| 625/625 [00:07<00:00, 82.91it/s]\n"
     ]
    },
    {
     "name": "stdout",
     "output_type": "stream",
     "text": [
      "Epoch: 6/10, elapsed-time: 46.22s - loss: 0.2810 - accuracy: 0.8961 - val_loss: 0.3204 - val_accuracy: 0.8678 - \n"
     ]
    },
    {
     "name": "stderr",
     "output_type": "stream",
     "text": [
      "100%|██████████| 625/625 [00:07<00:00, 84.41it/s]\n"
     ]
    },
    {
     "name": "stdout",
     "output_type": "stream",
     "text": [
      "Epoch: 7/10, elapsed-time: 53.67s - loss: 0.2589 - accuracy: 0.9034 - val_loss: 0.3115 - val_accuracy: 0.8738 - \n"
     ]
    },
    {
     "name": "stderr",
     "output_type": "stream",
     "text": [
      "100%|██████████| 625/625 [00:07<00:00, 81.66it/s]\n"
     ]
    },
    {
     "name": "stdout",
     "output_type": "stream",
     "text": [
      "Epoch: 8/10, elapsed-time: 61.37s - loss: 0.2403 - accuracy: 0.9116 - val_loss: 0.3052 - val_accuracy: 0.8754 - \n"
     ]
    },
    {
     "name": "stderr",
     "output_type": "stream",
     "text": [
      "100%|██████████| 625/625 [00:07<00:00, 79.88it/s]\n"
     ]
    },
    {
     "name": "stdout",
     "output_type": "stream",
     "text": [
      "Epoch: 9/10, elapsed-time: 69.25s - loss: 0.2244 - accuracy: 0.9183 - val_loss: 0.3049 - val_accuracy: 0.8748 - \n"
     ]
    },
    {
     "name": "stderr",
     "output_type": "stream",
     "text": [
      "100%|██████████| 625/625 [00:07<00:00, 81.86it/s]"
     ]
    },
    {
     "name": "stdout",
     "output_type": "stream",
     "text": [
      "Epoch: 10/10, elapsed-time: 76.94s - loss: 0.2101 - accuracy: 0.9242 - val_loss: 0.3001 - val_accuracy: 0.8772 - \n"
     ]
    },
    {
     "name": "stderr",
     "output_type": "stream",
     "text": [
      "\n"
     ]
    }
   ],
   "source": [
    "history = model.train((X_train, y_train),\n",
    "                      validation_data=(X_valid, y_valid),\n",
    "                      epochs=epochs)"
   ]
  },
  {
   "cell_type": "code",
   "execution_count": 11,
   "metadata": {},
   "outputs": [
    {
     "data": {
      "image/png": "[encoded data removed]",
      "text/plain": [
       "<Figure size 1008x864 with 2 Axes>"
      ]
     },
     "metadata": {
      "needs_background": "light"
     },
     "output_type": "display_data"
    }
   ],
   "source": [
    "# Plot training history\n",
    "\n",
    "history.plot_history()"
   ]
  },
  {
   "cell_type": "code",
   "execution_count": 12,
   "metadata": {},
   "outputs": [
    {
     "name": "stdout",
     "output_type": "stream",
     "text": [
      "Test Loss: 0.3264\n",
      "Test Accuracy: 86.18%\n"
     ]
    }
   ],
   "source": [
    "# Evaluate on test data\n",
    "test_preds = model.get_predictions(X_test)\n",
    "test_labels = y_test[:test_preds.shape[0]]\n",
    "test_loss = BinaryCrossEntropy()(test_labels, test_preds)\n",
    "binary_preds = np.round(test_preds)\n",
    "test_acc = np.mean(binary_preds == test_labels)\n",
    "\n",
    "\n",
    "print(f'Test Loss: {test_loss:.4f}')\n",
    "print(f'Test Accuracy: {test_acc:.2%}')\n"
   ]
  }
 ],
 "metadata": {
  "kernelspec": {
   "display_name": "Python 3 (ipykernel)",
   "language": "python",
   "name": "python3"
  },
  "language_info": {
   "codemirror_mode": {
    "name": "ipython",
    "version": 3
   },
   "file_extension": ".py",
   "mimetype": "text/x-python",
   "name": "python",
   "nbconvert_exporter": "python",
   "pygments_lexer": "ipython3",
   "version": "3.9.16"
  }
 },
 "nbformat": 4,
 "nbformat_minor": 2
}
