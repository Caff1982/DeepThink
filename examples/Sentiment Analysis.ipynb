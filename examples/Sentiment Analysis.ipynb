{
 "cells": [
  {
   "cell_type": "code",
   "execution_count": 1,
   "metadata": {},
   "outputs": [],
   "source": [
    "import os\n",
    "# Ignore TensorFlow warnings\n",
    "os.environ['TF_CPP_MIN_LOG_LEVEL'] = '3' \n",
    "\n",
    "import numpy as np\n",
    "import matplotlib.pyplot as plt\n",
    "from sklearn.manifold import TSNE\n",
    "from sklearn.metrics.pairwise import cosine_similarity\n",
    "\n",
    "from tensorflow.keras.datasets import imdb\n",
    "\n",
    "from deepthink.layers import EmbeddingLayer, GlobalAveragePooling1D, Dense\n",
    "from deepthink.model import Model\n",
    "from deepthink.optimizers import Adam\n",
    "from deepthink.loss import BinaryCrossEntropy\n",
    "from deepthink.activations import Sigmoid\n",
    "from deepthink.utils import pad_sequences\n",
    "\n",
    "# Set default matplotlib style\n",
    "plt.style.use('ggplot')"
   ]
  },
  {
   "attachments": {},
   "cell_type": "markdown",
   "metadata": {},
   "source": [
    "## IMDB Sentiment Analysis\n",
    "\n",
    "The purpose of this notebook is to demonstrate text-classification using [sentiment analysis](https://en.wikipedia.org/wiki/Sentiment_analysis). This example is inspired by [this](https://www.tensorflow.org/tutorials/keras/text_classification) TensorFlow tutorial.\n",
    "\n",
    "#### IMDB Dataset\n",
    "\n",
    "The dataset used is the [Large Movie Review Dataset](https://ai.stanford.edu/~amaas/data/sentiment/), which consists of 50,000 movie reviews from [imdb.com](https://www.imdb.com/) split into 25,000 for training and 25,000 for testing. Each review is classed as positive or negative (1 or 0 respectively) and the goal is to predict this from the review text. Reviews have been preprocessed, and each review is encoded as a sequence of word indexes (integers)."
   ]
  },
  {
   "cell_type": "code",
   "execution_count": 4,
   "metadata": {},
   "outputs": [],
   "source": [
    "# Define the parameters\n",
    "max_features = 10000  # Maximum vocab size\n",
    "seq_len = 200  # Maximum length of each review\n",
    "embedding_dim = 16\n",
    "batch_size = 32\n",
    "epochs = 10\n",
    "learning_rate = 0.001"
   ]
  },
  {
   "cell_type": "code",
   "execution_count": 5,
   "metadata": {},
   "outputs": [
    {
     "name": "stdout",
     "output_type": "stream",
     "text": [
      "(25000,) (25000, 1)\n",
      "(25000,) (25000, 1)\n"
     ]
    }
   ],
   "source": [
    "# Load the data\n",
    "(train_text, train_labels), (X_test, y_test) = imdb.load_data(num_words=max_features)\n",
    "\n",
    "# Reshape labels to column vector\n",
    "train_labels = train_labels.reshape(-1, 1)\n",
    "y_test = y_test.reshape(-1, 1)\n",
    "\n",
    "print(train_text.shape, train_labels.shape)\n",
    "print(X_test.shape, y_test.shape)"
   ]
  },
  {
   "cell_type": "code",
   "execution_count": 6,
   "metadata": {},
   "outputs": [
    {
     "name": "stdout",
     "output_type": "stream",
     "text": [
      "? i could not even bring myself to watch this movie to the end i cannot comment on the story as i did not watch the whole film and the reason i couldn't watch it was because of the ? firstly for the most part they just looked stiff and i'm sure their scripts were in their hands just out of frame but that's a minor issue the main issue i have with the actors isn't really their fault it's whoever cast this film come on this movie came out in 2003 i thought that casting people in their late ? to play teenagers went out of fashion with new wave i cannot watch a movie where one of the first lines from a grown man older than myself is i'm 17 how can anyone take that seriously don't fall victim to this movie go out for a walk for 90 minutes and you'll get far more than this movie could ever give\n"
     ]
    }
   ],
   "source": [
    "# View a sample review\n",
    "sample = np.random.choice(train_text)\n",
    "# Get the word index for each word in the review\n",
    "word_to_idx = imdb.get_word_index()\n",
    "# Create a reverse word index\n",
    "idx_to_word = {idx: word for word, idx in word_to_idx.items()}\n",
    "\n",
    "# Convert the review to text\n",
    "review = ' '.join([idx_to_word.get(idx - 3, '?') for idx in sample])\n",
    "print(review)"
   ]
  },
  {
   "cell_type": "code",
   "execution_count": 7,
   "metadata": {},
   "outputs": [],
   "source": [
    "# Pad the sequences\n",
    "train_text = pad_sequences(train_text, seq_len)\n",
    "X_test = pad_sequences(X_test, seq_len)"
   ]
  },
  {
   "cell_type": "code",
   "execution_count": 8,
   "metadata": {},
   "outputs": [],
   "source": [
    "# Shuffle the data and split into training and validation sets\n",
    "# (20k training, 5k validation as per the TensorFlow tutorial)\n",
    "train_size = 20000\n",
    "random_perm = np.random.permutation(train_text.shape[0])\n",
    "train_text = train_text[random_perm]\n",
    "train_labels = train_labels[random_perm]\n",
    "\n",
    "X_train = train_text[:train_size]\n",
    "y_train = train_labels[:train_size]\n",
    "X_valid = train_text[train_size:]\n",
    "y_valid = train_labels[train_size:]"
   ]
  },
  {
   "cell_type": "code",
   "execution_count": 9,
   "metadata": {},
   "outputs": [],
   "source": [
    "# Define the model\n",
    "opt = Adam(learning_rate=learning_rate)\n",
    "model = Model(opt, cost=BinaryCrossEntropy(),\n",
    "              batch_size=batch_size,\n",
    "              metrics=['accuracy'])\n",
    "\n",
    "model.add_layer(EmbeddingLayer(max_features, embedding_dim,\n",
    "                               input_shape=(batch_size, seq_len)))\n",
    "model.add_layer(GlobalAveragePooling1D())\n",
    "model.add_layer(Dense(1))\n",
    "model.add_layer(Sigmoid())\n",
    "\n",
    "model.initialize()"
   ]
  },
  {
   "cell_type": "code",
   "execution_count": 10,
   "metadata": {},
   "outputs": [
    {
     "name": "stdout",
     "output_type": "stream",
     "text": [
      "Model summary:\n",
      "_________________________________________________________________\n",
      "Layer Type                 Output Shape                   Param #\n",
      "=================================================================\n",
      "Embedding Layer           (None, 16, 200)                  160000\n",
      "GlobalAveragePooling      (None, 16)                            0\n",
      "Dense(1)                  (None, 1)                            17\n",
      "Sigmoid Activation        (None, 1)                             0\n",
      "=================================================================\n",
      "Total params: 160017\n"
     ]
    }
   ],
   "source": [
    "model.summary()"
   ]
  },
  {
   "cell_type": "code",
   "execution_count": 11,
   "metadata": {},
   "outputs": [
    {
     "name": "stderr",
     "output_type": "stream",
     "text": [
      "100%|██████████| 625/625 [00:08<00:00, 77.96it/s]\n"
     ]
    },
    {
     "name": "stdout",
     "output_type": "stream",
     "text": [
      "Epoch: 1/10, elapsed-time: 8.26s - loss: 0.5801 - accuracy: 0.7869 - val_loss: 0.5858 - val_accuracy: 0.7754 - \n"
     ]
    },
    {
     "name": "stderr",
     "output_type": "stream",
     "text": [
      "100%|██████████| 625/625 [00:07<00:00, 78.28it/s]\n"
     ]
    },
    {
     "name": "stdout",
     "output_type": "stream",
     "text": [
      "Epoch: 2/10, elapsed-time: 16.30s - loss: 0.5123 - accuracy: 0.8125 - val_loss: 0.4627 - val_accuracy: 0.8261 - \n"
     ]
    },
    {
     "name": "stderr",
     "output_type": "stream",
     "text": [
      "100%|██████████| 625/625 [00:08<00:00, 76.22it/s]\n"
     ]
    },
    {
     "name": "stdout",
     "output_type": "stream",
     "text": [
      "Epoch: 3/10, elapsed-time: 24.57s - loss: 0.4077 - accuracy: 0.8557 - val_loss: 0.3941 - val_accuracy: 0.8452 - \n"
     ]
    },
    {
     "name": "stderr",
     "output_type": "stream",
     "text": [
      "100%|██████████| 625/625 [00:08<00:00, 77.70it/s]\n"
     ]
    },
    {
     "name": "stdout",
     "output_type": "stream",
     "text": [
      "Epoch: 4/10, elapsed-time: 32.68s - loss: 0.3471 - accuracy: 0.8725 - val_loss: 0.3601 - val_accuracy: 0.8556 - \n"
     ]
    },
    {
     "name": "stderr",
     "output_type": "stream",
     "text": [
      "100%|██████████| 625/625 [00:08<00:00, 78.11it/s]\n"
     ]
    },
    {
     "name": "stdout",
     "output_type": "stream",
     "text": [
      "Epoch: 5/10, elapsed-time: 40.74s - loss: 0.3085 - accuracy: 0.8867 - val_loss: 0.3356 - val_accuracy: 0.8654 - \n"
     ]
    },
    {
     "name": "stderr",
     "output_type": "stream",
     "text": [
      "100%|██████████| 625/625 [00:08<00:00, 75.83it/s]\n"
     ]
    },
    {
     "name": "stdout",
     "output_type": "stream",
     "text": [
      "Epoch: 6/10, elapsed-time: 49.04s - loss: 0.2801 - accuracy: 0.8961 - val_loss: 0.3225 - val_accuracy: 0.8686 - \n"
     ]
    },
    {
     "name": "stderr",
     "output_type": "stream",
     "text": [
      "100%|██████████| 625/625 [00:08<00:00, 76.19it/s]\n"
     ]
    },
    {
     "name": "stdout",
     "output_type": "stream",
     "text": [
      "Epoch: 7/10, elapsed-time: 57.30s - loss: 0.2576 - accuracy: 0.9070 - val_loss: 0.3130 - val_accuracy: 0.8740 - \n"
     ]
    },
    {
     "name": "stderr",
     "output_type": "stream",
     "text": [
      "100%|██████████| 625/625 [00:08<00:00, 75.95it/s]\n"
     ]
    },
    {
     "name": "stdout",
     "output_type": "stream",
     "text": [
      "Epoch: 8/10, elapsed-time: 65.58s - loss: 0.2392 - accuracy: 0.9124 - val_loss: 0.3077 - val_accuracy: 0.8754 - \n"
     ]
    },
    {
     "name": "stderr",
     "output_type": "stream",
     "text": [
      "100%|██████████| 625/625 [00:08<00:00, 77.55it/s]\n"
     ]
    },
    {
     "name": "stdout",
     "output_type": "stream",
     "text": [
      "Epoch: 9/10, elapsed-time: 73.70s - loss: 0.2228 - accuracy: 0.9193 - val_loss: 0.3049 - val_accuracy: 0.8760 - \n"
     ]
    },
    {
     "name": "stderr",
     "output_type": "stream",
     "text": [
      "100%|██████████| 625/625 [00:08<00:00, 75.05it/s]"
     ]
    },
    {
     "name": "stdout",
     "output_type": "stream",
     "text": [
      "Epoch: 10/10, elapsed-time: 82.08s - loss: 0.2090 - accuracy: 0.9228 - val_loss: 0.3036 - val_accuracy: 0.8780 - \n"
     ]
    },
    {
     "name": "stderr",
     "output_type": "stream",
     "text": [
      "\n"
     ]
    }
   ],
   "source": [
    "history = model.train((X_train, y_train),\n",
    "                      validation_data=(X_valid, y_valid),\n",
    "                      epochs=epochs)"
   ]
  },
  {
   "cell_type": "code",
   "execution_count": 12,
   "metadata": {},
   "outputs": [
    {
     "data": {
      "image/png": "[encoded data removed]",
      "text/plain": [
       "<Figure size 1008x864 with 2 Axes>"
      ]
     },
     "metadata": {
      "needs_background": "light"
     },
     "output_type": "display_data"
    }
   ],
   "source": [
    "# Plot training history\n",
    "\n",
    "history.plot_history()"
   ]
  },
  {
   "cell_type": "code",
   "execution_count": 13,
   "metadata": {},
   "outputs": [
    {
     "name": "stdout",
     "output_type": "stream",
     "text": [
      "Test Loss: 0.3231\n",
      "Test Accuracy: 86.42%\n"
     ]
    }
   ],
   "source": [
    "# Evaluate on test data\n",
    "test_preds = model.get_predictions(X_test)\n",
    "test_labels = y_test[:test_preds.shape[0]]\n",
    "test_loss = BinaryCrossEntropy()(test_labels, test_preds)\n",
    "binary_preds = np.round(test_preds)\n",
    "test_acc = np.mean(binary_preds == test_labels)\n",
    "\n",
    "\n",
    "print(f'Test Loss: {test_loss:.4f}')\n",
    "print(f'Test Accuracy: {test_acc:.2%}')\n"
   ]
  }
 ],
 "metadata": {
  "kernelspec": {
   "display_name": "Python 3 (ipykernel)",
   "language": "python",
   "name": "python3"
  },
  "language_info": {
   "codemirror_mode": {
    "name": "ipython",
    "version": 3
   },
   "file_extension": ".py",
   "mimetype": "text/x-python",
   "name": "python",
   "nbconvert_exporter": "python",
   "pygments_lexer": "ipython3",
   "version": "3.9.16"
  }
 },
 "nbformat": 4,
 "nbformat_minor": 2
}
