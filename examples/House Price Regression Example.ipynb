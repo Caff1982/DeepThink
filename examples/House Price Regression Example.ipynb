{
 "cells": [
  {
   "cell_type": "code",
   "execution_count": 1,
   "id": "e3c7c549",
   "metadata": {},
   "outputs": [],
   "source": [
    "import os\n",
    "\n",
    "import numpy as np\n",
    "import pandas as pd\n",
    "import matplotlib.pyplot as plt\n",
    "from sklearn.model_selection import train_test_split\n",
    "\n",
    "from deepthink.optimizers import Adam\n",
    "from deepthink.layers import Dense\n",
    "from deepthink.model import Model\n",
    "from deepthink.activations import ReLU,  Sigmoid\n",
    "from deepthink.loss import MeanSquaredError\n",
    "\n",
    "# Set default matplotlib style\n",
    "plt.style.use('ggplot')"
   ]
  },
  {
   "cell_type": "markdown",
   "id": "c8c93666",
   "metadata": {},
   "source": [
    "## House price regression example\n",
    "\n",
    "The purpose of this notebook is to demonstrate how to train a model on a regression task. The dataset used is the California Housing Prices dataset from the StatLib repository ([see this link for more info](https://www.dcc.fc.up.pt/~ltorgo/Regression/cal_housing.html)) which can be downloaded from [here](https://raw.githubusercontent.com/ageron/handson-ml/master/datasets/housing/housing.csv). This is a dataset of house prices from the 1990 California census and the objective is to predict the house price given several other features.\n",
    "\n",
    "For this notebook I have taken inspiration from Chaper 2 of the excellent book [\"Hands-On Machine Learning with Scikit-Learn and TensorFlow\"](https://www.amazon.co.uk/Hands-Machine-Learning-Scikit-Learn-TensorFlow/dp/1098125975) by Aurélien Géron. I would strongly recommend this book to beginners looking to learn machine learning. It's also a great reference point for experienced machine learning practitioners.\n",
    "\n",
    "The goal of this notebook is to demonstrate functionally on a regression task, not to set state-of-the-art results. I have therefore spent minimal time cleaning the data, feature selection, etc. For a more detailed look I would refer the reader to Chaper 2 of Hands-On Machine Learning with Scikit-Learn and TensorFlow.\n",
    "\n",
    "## Loading the data\n",
    "\n",
    "The function will below will download the dataset and save it if does not already exist. Subsequent calls will load the dataset from the local machine. "
   ]
  },
  {
   "cell_type": "code",
   "execution_count": 2,
   "id": "8a9c72cf",
   "metadata": {},
   "outputs": [],
   "source": [
    "def load_housing_data(filepath=None):\n",
    "    \"\"\"\n",
    "    Load California Housing dataset.\n",
    "\n",
    "    It will download the dataset if it does not already exist and then\n",
    "    subsequent calls will load from the local machine.\n",
    "\n",
    "    Parameters\n",
    "    ----------\n",
    "    filepath : str\n",
    "        The location to save/load the dataset.\n",
    "\n",
    "    References\n",
    "    ----------\n",
    "    - https://www.dcc.fc.up.pt/~ltorgo/Regression/cal_housing.html\n",
    "    \"\"\"\n",
    "    url = 'https://raw.githubusercontent.com/ageron/handson-ml/master/datasets/housing/housing.csv'\n",
    "    if filepath:\n",
    "        if os.path.exists(filepath):\n",
    "            df = pd.read_csv(filepath)\n",
    "        else:\n",
    "            print('Downloading dataset...')\n",
    "            df = pd.read_csv(url)\n",
    "            df.to_csv(filepath, index=False)\n",
    "    else:\n",
    "        print('Downloading dataset...')\n",
    "        df = pd.read_csv(url)\n",
    "\n",
    "    return df"
   ]
  },
  {
   "cell_type": "code",
   "execution_count": 3,
   "id": "bff64c69",
   "metadata": {},
   "outputs": [
    {
     "name": "stdout",
     "output_type": "stream",
     "text": [
      "Downloading dataset...\n"
     ]
    },
    {
     "data": {
      "text/html": [
       "<div>\n",
       "<style scoped>\n",
       "    .dataframe tbody tr th:only-of-type {\n",
       "        vertical-align: middle;\n",
       "    }\n",
       "\n",
       "    .dataframe tbody tr th {\n",
       "        vertical-align: top;\n",
       "    }\n",
       "\n",
       "    .dataframe thead th {\n",
       "        text-align: right;\n",
       "    }\n",
       "</style>\n",
       "<table border=\"1\" class=\"dataframe\">\n",
       "  <thead>\n",
       "    <tr style=\"text-align: right;\">\n",
       "      <th></th>\n",
       "      <th>longitude</th>\n",
       "      <th>latitude</th>\n",
       "      <th>housing_median_age</th>\n",
       "      <th>total_rooms</th>\n",
       "      <th>total_bedrooms</th>\n",
       "      <th>population</th>\n",
       "      <th>households</th>\n",
       "      <th>median_income</th>\n",
       "      <th>median_house_value</th>\n",
       "      <th>ocean_proximity</th>\n",
       "    </tr>\n",
       "  </thead>\n",
       "  <tbody>\n",
       "    <tr>\n",
       "      <th>0</th>\n",
       "      <td>-122.23</td>\n",
       "      <td>37.88</td>\n",
       "      <td>41.0</td>\n",
       "      <td>880.0</td>\n",
       "      <td>129.0</td>\n",
       "      <td>322.0</td>\n",
       "      <td>126.0</td>\n",
       "      <td>8.3252</td>\n",
       "      <td>452600.0</td>\n",
       "      <td>NEAR BAY</td>\n",
       "    </tr>\n",
       "    <tr>\n",
       "      <th>1</th>\n",
       "      <td>-122.22</td>\n",
       "      <td>37.86</td>\n",
       "      <td>21.0</td>\n",
       "      <td>7099.0</td>\n",
       "      <td>1106.0</td>\n",
       "      <td>2401.0</td>\n",
       "      <td>1138.0</td>\n",
       "      <td>8.3014</td>\n",
       "      <td>358500.0</td>\n",
       "      <td>NEAR BAY</td>\n",
       "    </tr>\n",
       "    <tr>\n",
       "      <th>2</th>\n",
       "      <td>-122.24</td>\n",
       "      <td>37.85</td>\n",
       "      <td>52.0</td>\n",
       "      <td>1467.0</td>\n",
       "      <td>190.0</td>\n",
       "      <td>496.0</td>\n",
       "      <td>177.0</td>\n",
       "      <td>7.2574</td>\n",
       "      <td>352100.0</td>\n",
       "      <td>NEAR BAY</td>\n",
       "    </tr>\n",
       "    <tr>\n",
       "      <th>3</th>\n",
       "      <td>-122.25</td>\n",
       "      <td>37.85</td>\n",
       "      <td>52.0</td>\n",
       "      <td>1274.0</td>\n",
       "      <td>235.0</td>\n",
       "      <td>558.0</td>\n",
       "      <td>219.0</td>\n",
       "      <td>5.6431</td>\n",
       "      <td>341300.0</td>\n",
       "      <td>NEAR BAY</td>\n",
       "    </tr>\n",
       "    <tr>\n",
       "      <th>4</th>\n",
       "      <td>-122.25</td>\n",
       "      <td>37.85</td>\n",
       "      <td>52.0</td>\n",
       "      <td>1627.0</td>\n",
       "      <td>280.0</td>\n",
       "      <td>565.0</td>\n",
       "      <td>259.0</td>\n",
       "      <td>3.8462</td>\n",
       "      <td>342200.0</td>\n",
       "      <td>NEAR BAY</td>\n",
       "    </tr>\n",
       "  </tbody>\n",
       "</table>\n",
       "</div>"
      ],
      "text/plain": [
       "   longitude  latitude  housing_median_age  total_rooms  total_bedrooms  \\\n",
       "0    -122.23     37.88                41.0        880.0           129.0   \n",
       "1    -122.22     37.86                21.0       7099.0          1106.0   \n",
       "2    -122.24     37.85                52.0       1467.0           190.0   \n",
       "3    -122.25     37.85                52.0       1274.0           235.0   \n",
       "4    -122.25     37.85                52.0       1627.0           280.0   \n",
       "\n",
       "   population  households  median_income  median_house_value ocean_proximity  \n",
       "0       322.0       126.0         8.3252            452600.0        NEAR BAY  \n",
       "1      2401.0      1138.0         8.3014            358500.0        NEAR BAY  \n",
       "2       496.0       177.0         7.2574            352100.0        NEAR BAY  \n",
       "3       558.0       219.0         5.6431            341300.0        NEAR BAY  \n",
       "4       565.0       259.0         3.8462            342200.0        NEAR BAY  "
      ]
     },
     "execution_count": 3,
     "metadata": {},
     "output_type": "execute_result"
    }
   ],
   "source": [
    "df = load_housing_data('../Data/CaliforniaHousing.csv')\n",
    "df.head()"
   ]
  },
  {
   "cell_type": "code",
   "execution_count": 4,
   "id": "f2f6f394",
   "metadata": {},
   "outputs": [
    {
     "data": {
      "text/plain": [
       "(20640, 10)"
      ]
     },
     "execution_count": 4,
     "metadata": {},
     "output_type": "execute_result"
    }
   ],
   "source": [
    "df.shape"
   ]
  },
  {
   "cell_type": "code",
   "execution_count": 5,
   "id": "f00fc426",
   "metadata": {},
   "outputs": [
    {
     "data": {
      "text/plain": [
       "longitude               0\n",
       "latitude                0\n",
       "housing_median_age      0\n",
       "total_rooms             0\n",
       "total_bedrooms        207\n",
       "population              0\n",
       "households              0\n",
       "median_income           0\n",
       "median_house_value      0\n",
       "ocean_proximity         0\n",
       "dtype: int64"
      ]
     },
     "execution_count": 5,
     "metadata": {},
     "output_type": "execute_result"
    }
   ],
   "source": [
    "df.isna().sum()"
   ]
  },
  {
   "cell_type": "code",
   "execution_count": 6,
   "id": "77814123",
   "metadata": {},
   "outputs": [],
   "source": [
    "# Drop rows with NaNs\n",
    "df = df[~df.isnull().any(axis=1)]\n",
    "# Drop categorical column\n",
    "df.drop(columns=['ocean_proximity'], inplace=True)"
   ]
  },
  {
   "cell_type": "code",
   "execution_count": 7,
   "id": "66861d20",
   "metadata": {},
   "outputs": [],
   "source": [
    "# Create new features\n",
    "df['bedrooms_per_room'] = df['total_bedrooms'] / df['total_rooms']\n",
    "df['population_per_household'] = df['population'] / df['households']"
   ]
  },
  {
   "cell_type": "code",
   "execution_count": 8,
   "id": "b82f81a2",
   "metadata": {},
   "outputs": [
    {
     "data": {
      "image/png": "[encoded data removed]",
      "text/plain": [
       "<Figure size 720x720 with 12 Axes>"
      ]
     },
     "metadata": {
      "needs_background": "light"
     },
     "output_type": "display_data"
    }
   ],
   "source": [
    "# Use histogram to visualize distributions\n",
    "df.hist(bins=50, figsize=(10, 10))\n",
    "\n",
    "plt.show()"
   ]
  },
  {
   "cell_type": "code",
   "execution_count": 9,
   "id": "8103b38a",
   "metadata": {},
   "outputs": [],
   "source": [
    "# Log-transform skewed columns\n",
    "log_cols = ['total_rooms', 'total_bedrooms', 'population', 'households',\n",
    "            'bedrooms_per_room', 'population_per_household']\n",
    "\n",
    "for col in log_cols:\n",
    "    df[f'log_{col}'] = df[col].apply(np.log1p)"
   ]
  },
  {
   "cell_type": "code",
   "execution_count": 10,
   "id": "8670740b",
   "metadata": {},
   "outputs": [
    {
     "data": {
      "image/png": "[encoded data removed]",
      "text/plain": [
       "<Figure size 720x720 with 6 Axes>"
      ]
     },
     "metadata": {
      "needs_background": "light"
     },
     "output_type": "display_data"
    }
   ],
   "source": [
    "# View histograms of the log-transformed columns\n",
    "new_cols = df.columns[df.columns.str.startswith('log')]\n",
    "df[new_cols].hist(bins=50, figsize=(10, 10));"
   ]
  },
  {
   "cell_type": "code",
   "execution_count": 11,
   "id": "bed04786",
   "metadata": {},
   "outputs": [
    {
     "data": {
      "text/plain": [
       "median_house_value              1.000000\n",
       "median_income                   0.688355\n",
       "log_total_rooms                 0.158506\n",
       "total_rooms                     0.133294\n",
       "housing_median_age              0.106432\n",
       "log_households                  0.072765\n",
       "households                      0.064894\n",
       "log_total_bedrooms              0.053311\n",
       "total_bedrooms                  0.049686\n",
       "log_population                 -0.021904\n",
       "population_per_household       -0.023639\n",
       "population                     -0.025300\n",
       "longitude                      -0.045398\n",
       "latitude                       -0.144638\n",
       "log_population_per_household   -0.246415\n",
       "bedrooms_per_room              -0.255880\n",
       "log_bedrooms_per_room          -0.271949\n",
       "Name: median_house_value, dtype: float64"
      ]
     },
     "execution_count": 11,
     "metadata": {},
     "output_type": "execute_result"
    }
   ],
   "source": [
    "df.corr()['median_house_value'].sort_values(ascending=False)"
   ]
  },
  {
   "cell_type": "code",
   "execution_count": 12,
   "id": "f3b9cdc9",
   "metadata": {},
   "outputs": [],
   "source": [
    "# Normalize data\n",
    "# store target min and max for reversing process\n",
    "target_min = df['median_house_value'].min()\n",
    "target_max = df['median_house_value'].max()\n",
    "df = (df - df.min()) / (df.max() - df.min())"
   ]
  },
  {
   "cell_type": "code",
   "execution_count": 13,
   "id": "32b7fd74",
   "metadata": {},
   "outputs": [
    {
     "data": {
      "text/html": [
       "<div>\n",
       "<style scoped>\n",
       "    .dataframe tbody tr th:only-of-type {\n",
       "        vertical-align: middle;\n",
       "    }\n",
       "\n",
       "    .dataframe tbody tr th {\n",
       "        vertical-align: top;\n",
       "    }\n",
       "\n",
       "    .dataframe thead th {\n",
       "        text-align: right;\n",
       "    }\n",
       "</style>\n",
       "<table border=\"1\" class=\"dataframe\">\n",
       "  <thead>\n",
       "    <tr style=\"text-align: right;\">\n",
       "      <th></th>\n",
       "      <th>median_income</th>\n",
       "      <th>log_bedrooms_per_room</th>\n",
       "      <th>latitude</th>\n",
       "      <th>longitude</th>\n",
       "      <th>log_population_per_household</th>\n",
       "      <th>housing_median_age</th>\n",
       "    </tr>\n",
       "  </thead>\n",
       "  <tbody>\n",
       "    <tr>\n",
       "      <th>median_income</th>\n",
       "      <td>1.000000</td>\n",
       "      <td>-0.639181</td>\n",
       "      <td>-0.079626</td>\n",
       "      <td>-0.015550</td>\n",
       "      <td>-0.029493</td>\n",
       "      <td>-0.118278</td>\n",
       "    </tr>\n",
       "    <tr>\n",
       "      <th>log_bedrooms_per_room</th>\n",
       "      <td>-0.639181</td>\n",
       "      <td>1.000000</td>\n",
       "      <td>-0.113675</td>\n",
       "      <td>0.093296</td>\n",
       "      <td>-0.038605</td>\n",
       "      <td>0.140446</td>\n",
       "    </tr>\n",
       "    <tr>\n",
       "      <th>latitude</th>\n",
       "      <td>-0.079626</td>\n",
       "      <td>-0.113675</td>\n",
       "      <td>1.000000</td>\n",
       "      <td>-0.924616</td>\n",
       "      <td>-0.132598</td>\n",
       "      <td>0.011899</td>\n",
       "    </tr>\n",
       "    <tr>\n",
       "      <th>longitude</th>\n",
       "      <td>-0.015550</td>\n",
       "      <td>0.093296</td>\n",
       "      <td>-0.924616</td>\n",
       "      <td>1.000000</td>\n",
       "      <td>0.144243</td>\n",
       "      <td>-0.109357</td>\n",
       "    </tr>\n",
       "    <tr>\n",
       "      <th>log_population_per_household</th>\n",
       "      <td>-0.029493</td>\n",
       "      <td>-0.038605</td>\n",
       "      <td>-0.132598</td>\n",
       "      <td>0.144243</td>\n",
       "      <td>1.000000</td>\n",
       "      <td>-0.007336</td>\n",
       "    </tr>\n",
       "    <tr>\n",
       "      <th>housing_median_age</th>\n",
       "      <td>-0.118278</td>\n",
       "      <td>0.140446</td>\n",
       "      <td>0.011899</td>\n",
       "      <td>-0.109357</td>\n",
       "      <td>-0.007336</td>\n",
       "      <td>1.000000</td>\n",
       "    </tr>\n",
       "  </tbody>\n",
       "</table>\n",
       "</div>"
      ],
      "text/plain": [
       "                              median_income  log_bedrooms_per_room  latitude  \\\n",
       "median_income                      1.000000              -0.639181 -0.079626   \n",
       "log_bedrooms_per_room             -0.639181               1.000000 -0.113675   \n",
       "latitude                          -0.079626              -0.113675  1.000000   \n",
       "longitude                         -0.015550               0.093296 -0.924616   \n",
       "log_population_per_household      -0.029493              -0.038605 -0.132598   \n",
       "housing_median_age                -0.118278               0.140446  0.011899   \n",
       "\n",
       "                              longitude  log_population_per_household  \\\n",
       "median_income                 -0.015550                     -0.029493   \n",
       "log_bedrooms_per_room          0.093296                     -0.038605   \n",
       "latitude                      -0.924616                     -0.132598   \n",
       "longitude                      1.000000                      0.144243   \n",
       "log_population_per_household   0.144243                      1.000000   \n",
       "housing_median_age            -0.109357                     -0.007336   \n",
       "\n",
       "                              housing_median_age  \n",
       "median_income                          -0.118278  \n",
       "log_bedrooms_per_room                   0.140446  \n",
       "latitude                                0.011899  \n",
       "longitude                              -0.109357  \n",
       "log_population_per_household           -0.007336  \n",
       "housing_median_age                      1.000000  "
      ]
     },
     "execution_count": 13,
     "metadata": {},
     "output_type": "execute_result"
    }
   ],
   "source": [
    "feature_cols = ['median_income', 'log_bedrooms_per_room', 'latitude',\n",
    "                'longitude', 'log_population_per_household',\n",
    "                'housing_median_age']\n",
    "df[feature_cols].corr()"
   ]
  },
  {
   "cell_type": "code",
   "execution_count": 14,
   "id": "a3f7695f",
   "metadata": {},
   "outputs": [],
   "source": [
    "# Convert DataFrame to Numpy arrays\n",
    "X_data = df[feature_cols].values\n",
    "# y-data reshaped to column array from 1D\n",
    "y_data = df['median_house_value'].values.reshape(-1, 1)"
   ]
  },
  {
   "cell_type": "code",
   "execution_count": 15,
   "id": "6cc358c5",
   "metadata": {},
   "outputs": [
    {
     "name": "stdout",
     "output_type": "stream",
     "text": [
      "(15324, 6) (5109, 6)\n"
     ]
    }
   ],
   "source": [
    "# Splitting into training & test data\n",
    "X_train, X_test, y_train, y_test = train_test_split(X_data,\n",
    "                                                    y_data,\n",
    "                                                    test_size=0.25)\n",
    "print(X_train.shape, X_test.shape)"
   ]
  },
  {
   "cell_type": "code",
   "execution_count": 16,
   "id": "3214e095",
   "metadata": {},
   "outputs": [],
   "source": [
    "# Define hyperparameters\n",
    "input_dims = X_train.shape[1]\n",
    "learning_rate = 0.005\n",
    "batch_size = 128\n",
    "init_type = 'he_uniform'"
   ]
  },
  {
   "cell_type": "code",
   "execution_count": 17,
   "id": "a7d3a566",
   "metadata": {},
   "outputs": [],
   "source": [
    "# Building the model\n",
    "opt = Adam(learning_rate)\n",
    "model = Model(opt, cost=MeanSquaredError(),\n",
    "              batch_size=batch_size,\n",
    "              metrics=['RMSE'])\n",
    "model.add_layer(Dense(32, n_inputs=input_dims,\n",
    "                      weight_init=init_type))\n",
    "model.add_layer(ReLU())\n",
    "model.add_layer(Dense(32, weight_init=init_type))\n",
    "model.add_layer(ReLU())\n",
    "model.add_layer(Dense(1, weight_init=init_type))\n",
    "model.add_layer(Sigmoid())\n",
    "\n",
    "model.initialize()"
   ]
  },
  {
   "cell_type": "code",
   "execution_count": 18,
   "id": "39b51eff",
   "metadata": {},
   "outputs": [
    {
     "name": "stdout",
     "output_type": "stream",
     "text": [
      "Model summary:\n",
      "_________________________________________________________________\n",
      "Layer Type                 Output Shape                   Param #\n",
      "=================================================================\n",
      "Dense Layer               (None, 32)                          192\n",
      "ReLU Activation           (None, 32)                            0\n",
      "Dense Layer               (None, 32)                         1024\n",
      "ReLU Activation           (None, 32)                            0\n",
      "Dense Layer               (None, 1)                            32\n",
      "Sigmoid Activation        (None, 1)                             0\n",
      "=================================================================\n",
      "Total params: 1,313\n"
     ]
    }
   ],
   "source": [
    "model.summary()"
   ]
  },
  {
   "cell_type": "code",
   "execution_count": 19,
   "id": "e0486afc",
   "metadata": {},
   "outputs": [
    {
     "name": "stderr",
     "output_type": "stream",
     "text": [
      "100%|███████████████████████████████████████| 119/119 [00:00<00:00, 1341.00it/s]\n"
     ]
    },
    {
     "name": "stdout",
     "output_type": "stream",
     "text": [
      "Epoch: 1/100, elapsed-time: 0.12s - loss: 0.0214 - RMSE: 0.0991 - val_loss: 0.0218 - val_RMSE: 0.0989 - \n"
     ]
    },
    {
     "name": "stderr",
     "output_type": "stream",
     "text": [
      "100%|███████████████████████████████████████| 119/119 [00:00<00:00, 1354.47it/s]\n"
     ]
    },
    {
     "name": "stdout",
     "output_type": "stream",
     "text": [
      "Epoch: 2/100, elapsed-time: 0.22s - loss: 0.0170 - RMSE: 0.0925 - val_loss: 0.0182 - val_RMSE: 0.0899 - \n"
     ]
    },
    {
     "name": "stderr",
     "output_type": "stream",
     "text": [
      "100%|███████████████████████████████████████| 119/119 [00:00<00:00, 1334.62it/s]\n"
     ]
    },
    {
     "name": "stdout",
     "output_type": "stream",
     "text": [
      "Epoch: 3/100, elapsed-time: 0.32s - loss: 0.0167 - RMSE: 0.0916 - val_loss: 0.0162 - val_RMSE: 0.0921 - \n"
     ]
    },
    {
     "name": "stderr",
     "output_type": "stream",
     "text": [
      "100%|███████████████████████████████████████| 119/119 [00:00<00:00, 1379.81it/s]\n"
     ]
    },
    {
     "name": "stdout",
     "output_type": "stream",
     "text": [
      "Epoch: 4/100, elapsed-time: 0.42s - loss: 0.0159 - RMSE: 0.0885 - val_loss: 0.0161 - val_RMSE: 0.0858 - \n"
     ]
    },
    {
     "name": "stderr",
     "output_type": "stream",
     "text": [
      "100%|███████████████████████████████████████| 119/119 [00:00<00:00, 1272.96it/s]\n"
     ]
    },
    {
     "name": "stdout",
     "output_type": "stream",
     "text": [
      "Epoch: 5/100, elapsed-time: 0.53s - loss: 0.0159 - RMSE: 0.0884 - val_loss: 0.0166 - val_RMSE: 0.0865 - \n"
     ]
    },
    {
     "name": "stderr",
     "output_type": "stream",
     "text": [
      "100%|███████████████████████████████████████| 119/119 [00:00<00:00, 1220.11it/s]\n"
     ]
    },
    {
     "name": "stdout",
     "output_type": "stream",
     "text": [
      "Epoch: 6/100, elapsed-time: 0.64s - loss: 0.0158 - RMSE: 0.0884 - val_loss: 0.0158 - val_RMSE: 0.0844 - \n"
     ]
    },
    {
     "name": "stderr",
     "output_type": "stream",
     "text": [
      "100%|███████████████████████████████████████| 119/119 [00:00<00:00, 1410.73it/s]"
     ]
    },
    {
     "name": "stdout",
     "output_type": "stream",
     "text": [
      "Epoch: 7/100, elapsed-time: 0.73s - loss: 0.0156 - RMSE: 0.0879 - val_loss: 0.0149 - val_RMSE: 0.0842 - "
     ]
    },
    {
     "name": "stderr",
     "output_type": "stream",
     "text": [
      "\n"
     ]
    },
    {
     "name": "stdout",
     "output_type": "stream",
     "text": [
      "\n"
     ]
    },
    {
     "name": "stderr",
     "output_type": "stream",
     "text": [
      "100%|███████████████████████████████████████| 119/119 [00:00<00:00, 1450.01it/s]\n"
     ]
    },
    {
     "name": "stdout",
     "output_type": "stream",
     "text": [
      "Epoch: 8/100, elapsed-time: 0.82s - loss: 0.0153 - RMSE: 0.0865 - val_loss: 0.0148 - val_RMSE: 0.0840 - \n"
     ]
    },
    {
     "name": "stderr",
     "output_type": "stream",
     "text": [
      "100%|███████████████████████████████████████| 119/119 [00:00<00:00, 1239.19it/s]\n"
     ]
    },
    {
     "name": "stdout",
     "output_type": "stream",
     "text": [
      "Epoch: 9/100, elapsed-time: 0.93s - loss: 0.0151 - RMSE: 0.0861 - val_loss: 0.0155 - val_RMSE: 0.0881 - \n"
     ]
    },
    {
     "name": "stderr",
     "output_type": "stream",
     "text": [
      "100%|███████████████████████████████████████| 119/119 [00:00<00:00, 1298.00it/s]\n"
     ]
    },
    {
     "name": "stdout",
     "output_type": "stream",
     "text": [
      "Epoch: 10/100, elapsed-time: 1.04s - loss: 0.0155 - RMSE: 0.0874 - val_loss: 0.0145 - val_RMSE: 0.0836 - \n"
     ]
    },
    {
     "name": "stderr",
     "output_type": "stream",
     "text": [
      "100%|███████████████████████████████████████| 119/119 [00:00<00:00, 1232.97it/s]\n"
     ]
    },
    {
     "name": "stdout",
     "output_type": "stream",
     "text": [
      "Epoch: 11/100, elapsed-time: 1.14s - loss: 0.0150 - RMSE: 0.0856 - val_loss: 0.0150 - val_RMSE: 0.0889 - \n"
     ]
    },
    {
     "name": "stderr",
     "output_type": "stream",
     "text": [
      "100%|███████████████████████████████████████| 119/119 [00:00<00:00, 1398.27it/s]\n"
     ]
    },
    {
     "name": "stdout",
     "output_type": "stream",
     "text": [
      "Epoch: 12/100, elapsed-time: 1.25s - loss: 0.0151 - RMSE: 0.0865 - val_loss: 0.0165 - val_RMSE: 0.0976 - \n"
     ]
    },
    {
     "name": "stderr",
     "output_type": "stream",
     "text": [
      "100%|███████████████████████████████████████| 119/119 [00:00<00:00, 1476.17it/s]\n"
     ]
    },
    {
     "name": "stdout",
     "output_type": "stream",
     "text": [
      "Epoch: 13/100, elapsed-time: 1.35s - loss: 0.0147 - RMSE: 0.0847 - val_loss: 0.0142 - val_RMSE: 0.0845 - \n"
     ]
    },
    {
     "name": "stderr",
     "output_type": "stream",
     "text": [
      "100%|███████████████████████████████████████| 119/119 [00:00<00:00, 1401.49it/s]\n"
     ]
    },
    {
     "name": "stdout",
     "output_type": "stream",
     "text": [
      "Epoch: 14/100, elapsed-time: 1.46s - loss: 0.0145 - RMSE: 0.0842 - val_loss: 0.0143 - val_RMSE: 0.0823 - \n"
     ]
    },
    {
     "name": "stderr",
     "output_type": "stream",
     "text": [
      "100%|███████████████████████████████████████| 119/119 [00:00<00:00, 1363.04it/s]\n"
     ]
    },
    {
     "name": "stdout",
     "output_type": "stream",
     "text": [
      "Epoch: 15/100, elapsed-time: 1.56s - loss: 0.0143 - RMSE: 0.0835 - val_loss: 0.0141 - val_RMSE: 0.0825 - \n"
     ]
    },
    {
     "name": "stderr",
     "output_type": "stream",
     "text": [
      "100%|███████████████████████████████████████| 119/119 [00:00<00:00, 1483.68it/s]\n"
     ]
    },
    {
     "name": "stdout",
     "output_type": "stream",
     "text": [
      "Epoch: 16/100, elapsed-time: 1.65s - loss: 0.0144 - RMSE: 0.0835 - val_loss: 0.0137 - val_RMSE: 0.0814 - \n"
     ]
    },
    {
     "name": "stderr",
     "output_type": "stream",
     "text": [
      "100%|███████████████████████████████████████| 119/119 [00:00<00:00, 1543.67it/s]\n"
     ]
    },
    {
     "name": "stdout",
     "output_type": "stream",
     "text": [
      "Epoch: 17/100, elapsed-time: 1.74s - loss: 0.0143 - RMSE: 0.0834 - val_loss: 0.0137 - val_RMSE: 0.0802 - \n"
     ]
    },
    {
     "name": "stderr",
     "output_type": "stream",
     "text": [
      "100%|███████████████████████████████████████| 119/119 [00:00<00:00, 1262.35it/s]\n"
     ]
    },
    {
     "name": "stdout",
     "output_type": "stream",
     "text": [
      "Epoch: 18/100, elapsed-time: 1.84s - loss: 0.0141 - RMSE: 0.0825 - val_loss: 0.0141 - val_RMSE: 0.0815 - \n"
     ]
    },
    {
     "name": "stderr",
     "output_type": "stream",
     "text": [
      "100%|███████████████████████████████████████| 119/119 [00:00<00:00, 1528.33it/s]\n"
     ]
    },
    {
     "name": "stdout",
     "output_type": "stream",
     "text": [
      "Epoch: 19/100, elapsed-time: 1.93s - loss: 0.0141 - RMSE: 0.0828 - val_loss: 0.0137 - val_RMSE: 0.0816 - \n"
     ]
    },
    {
     "name": "stderr",
     "output_type": "stream",
     "text": [
      "100%|███████████████████████████████████████| 119/119 [00:00<00:00, 1406.50it/s]\n"
     ]
    },
    {
     "name": "stdout",
     "output_type": "stream",
     "text": [
      "Epoch: 20/100, elapsed-time: 2.02s - loss: 0.0143 - RMSE: 0.0833 - val_loss: 0.0151 - val_RMSE: 0.0913 - \n"
     ]
    },
    {
     "name": "stderr",
     "output_type": "stream",
     "text": [
      "100%|███████████████████████████████████████| 119/119 [00:00<00:00, 1428.14it/s]\n"
     ]
    },
    {
     "name": "stdout",
     "output_type": "stream",
     "text": [
      "Epoch: 21/100, elapsed-time: 2.12s - loss: 0.0140 - RMSE: 0.0823 - val_loss: 0.0137 - val_RMSE: 0.0809 - \n"
     ]
    },
    {
     "name": "stderr",
     "output_type": "stream",
     "text": [
      "100%|███████████████████████████████████████| 119/119 [00:00<00:00, 1529.82it/s]\n"
     ]
    },
    {
     "name": "stdout",
     "output_type": "stream",
     "text": [
      "Epoch: 22/100, elapsed-time: 2.21s - loss: 0.0140 - RMSE: 0.0824 - val_loss: 0.0139 - val_RMSE: 0.0787 - \n"
     ]
    },
    {
     "name": "stderr",
     "output_type": "stream",
     "text": [
      "100%|███████████████████████████████████████| 119/119 [00:00<00:00, 1412.67it/s]\n"
     ]
    },
    {
     "name": "stdout",
     "output_type": "stream",
     "text": [
      "Epoch: 23/100, elapsed-time: 2.30s - loss: 0.0140 - RMSE: 0.0824 - val_loss: 0.0133 - val_RMSE: 0.0792 - \n"
     ]
    },
    {
     "name": "stderr",
     "output_type": "stream",
     "text": [
      "100%|███████████████████████████████████████| 119/119 [00:00<00:00, 1539.73it/s]\n"
     ]
    },
    {
     "name": "stdout",
     "output_type": "stream",
     "text": [
      "Epoch: 24/100, elapsed-time: 2.39s - loss: 0.0138 - RMSE: 0.0814 - val_loss: 0.0134 - val_RMSE: 0.0813 - \n"
     ]
    },
    {
     "name": "stderr",
     "output_type": "stream",
     "text": [
      "100%|███████████████████████████████████████| 119/119 [00:00<00:00, 1524.81it/s]\n"
     ]
    },
    {
     "name": "stdout",
     "output_type": "stream",
     "text": [
      "Epoch: 25/100, elapsed-time: 2.49s - loss: 0.0137 - RMSE: 0.0811 - val_loss: 0.0136 - val_RMSE: 0.0836 - \n"
     ]
    },
    {
     "name": "stderr",
     "output_type": "stream",
     "text": [
      "100%|███████████████████████████████████████| 119/119 [00:00<00:00, 1345.79it/s]\n"
     ]
    },
    {
     "name": "stdout",
     "output_type": "stream",
     "text": [
      "Epoch: 26/100, elapsed-time: 2.59s - loss: 0.0137 - RMSE: 0.0811 - val_loss: 0.0134 - val_RMSE: 0.0784 - \n"
     ]
    },
    {
     "name": "stderr",
     "output_type": "stream",
     "text": [
      "100%|███████████████████████████████████████| 119/119 [00:00<00:00, 1503.76it/s]"
     ]
    },
    {
     "name": "stdout",
     "output_type": "stream",
     "text": [
      "Epoch: 27/100, elapsed-time: 2.69s - loss: 0.0139 - RMSE: 0.0815 - val_loss: 0.0146 - val_RMSE: 0.0801 - "
     ]
    },
    {
     "name": "stderr",
     "output_type": "stream",
     "text": [
      "\n"
     ]
    },
    {
     "name": "stdout",
     "output_type": "stream",
     "text": [
      "\n"
     ]
    },
    {
     "name": "stderr",
     "output_type": "stream",
     "text": [
      "100%|███████████████████████████████████████| 119/119 [00:00<00:00, 1546.29it/s]\n"
     ]
    },
    {
     "name": "stdout",
     "output_type": "stream",
     "text": [
      "Epoch: 28/100, elapsed-time: 2.79s - loss: 0.0138 - RMSE: 0.0812 - val_loss: 0.0133 - val_RMSE: 0.0786 - \n"
     ]
    },
    {
     "name": "stderr",
     "output_type": "stream",
     "text": [
      "100%|███████████████████████████████████████| 119/119 [00:00<00:00, 1441.33it/s]"
     ]
    },
    {
     "name": "stdout",
     "output_type": "stream",
     "text": [
      "Epoch: 29/100, elapsed-time: 2.89s - loss: 0.0136 - RMSE: 0.0804 - val_loss: 0.0133 - val_RMSE: 0.0812 - "
     ]
    },
    {
     "name": "stderr",
     "output_type": "stream",
     "text": [
      "\n"
     ]
    },
    {
     "name": "stdout",
     "output_type": "stream",
     "text": [
      "\n"
     ]
    },
    {
     "name": "stderr",
     "output_type": "stream",
     "text": [
      "100%|███████████████████████████████████████| 119/119 [00:00<00:00, 1483.09it/s]\n"
     ]
    },
    {
     "name": "stdout",
     "output_type": "stream",
     "text": [
      "Epoch: 30/100, elapsed-time: 2.99s - loss: 0.0134 - RMSE: 0.0795 - val_loss: 0.0146 - val_RMSE: 0.0793 - \n"
     ]
    },
    {
     "name": "stderr",
     "output_type": "stream",
     "text": [
      "100%|███████████████████████████████████████| 119/119 [00:00<00:00, 1317.58it/s]\n"
     ]
    },
    {
     "name": "stdout",
     "output_type": "stream",
     "text": [
      "Epoch: 31/100, elapsed-time: 3.10s - loss: 0.0135 - RMSE: 0.0799 - val_loss: 0.0132 - val_RMSE: 0.0796 - \n"
     ]
    },
    {
     "name": "stderr",
     "output_type": "stream",
     "text": [
      "100%|███████████████████████████████████████| 119/119 [00:00<00:00, 1525.64it/s]\n"
     ]
    },
    {
     "name": "stdout",
     "output_type": "stream",
     "text": [
      "Epoch: 32/100, elapsed-time: 3.19s - loss: 0.0133 - RMSE: 0.0791 - val_loss: 0.0132 - val_RMSE: 0.0791 - \n"
     ]
    },
    {
     "name": "stderr",
     "output_type": "stream",
     "text": [
      "100%|███████████████████████████████████████| 119/119 [00:00<00:00, 1536.26it/s]\n"
     ]
    },
    {
     "name": "stdout",
     "output_type": "stream",
     "text": [
      "Epoch: 33/100, elapsed-time: 3.28s - loss: 0.0134 - RMSE: 0.0795 - val_loss: 0.0130 - val_RMSE: 0.0796 - \n"
     ]
    },
    {
     "name": "stderr",
     "output_type": "stream",
     "text": [
      "100%|███████████████████████████████████████| 119/119 [00:00<00:00, 1322.11it/s]\n"
     ]
    },
    {
     "name": "stdout",
     "output_type": "stream",
     "text": [
      "Epoch: 34/100, elapsed-time: 3.39s - loss: 0.0132 - RMSE: 0.0792 - val_loss: 0.0129 - val_RMSE: 0.0774 - \n"
     ]
    },
    {
     "name": "stderr",
     "output_type": "stream",
     "text": [
      "100%|███████████████████████████████████████| 119/119 [00:00<00:00, 1517.44it/s]\n"
     ]
    },
    {
     "name": "stdout",
     "output_type": "stream",
     "text": [
      "Epoch: 35/100, elapsed-time: 3.49s - loss: 0.0133 - RMSE: 0.0791 - val_loss: 0.0127 - val_RMSE: 0.0768 - \n"
     ]
    },
    {
     "name": "stderr",
     "output_type": "stream",
     "text": [
      "100%|███████████████████████████████████████| 119/119 [00:00<00:00, 1419.60it/s]\n"
     ]
    },
    {
     "name": "stdout",
     "output_type": "stream",
     "text": [
      "Epoch: 36/100, elapsed-time: 3.59s - loss: 0.0135 - RMSE: 0.0799 - val_loss: 0.0135 - val_RMSE: 0.0817 - \n"
     ]
    },
    {
     "name": "stderr",
     "output_type": "stream",
     "text": [
      "100%|███████████████████████████████████████| 119/119 [00:00<00:00, 1581.82it/s]\n"
     ]
    },
    {
     "name": "stdout",
     "output_type": "stream",
     "text": [
      "Epoch: 37/100, elapsed-time: 3.68s - loss: 0.0132 - RMSE: 0.0789 - val_loss: 0.0134 - val_RMSE: 0.0778 - \n"
     ]
    },
    {
     "name": "stderr",
     "output_type": "stream",
     "text": [
      "100%|███████████████████████████████████████| 119/119 [00:00<00:00, 1547.34it/s]\n"
     ]
    },
    {
     "name": "stdout",
     "output_type": "stream",
     "text": [
      "Epoch: 38/100, elapsed-time: 3.78s - loss: 0.0135 - RMSE: 0.0799 - val_loss: 0.0136 - val_RMSE: 0.0768 - \n"
     ]
    },
    {
     "name": "stderr",
     "output_type": "stream",
     "text": [
      "100%|███████████████████████████████████████| 119/119 [00:00<00:00, 1353.91it/s]\n"
     ]
    },
    {
     "name": "stdout",
     "output_type": "stream",
     "text": [
      "Epoch: 39/100, elapsed-time: 3.88s - loss: 0.0132 - RMSE: 0.0792 - val_loss: 0.0127 - val_RMSE: 0.0755 - \n"
     ]
    },
    {
     "name": "stderr",
     "output_type": "stream",
     "text": [
      "100%|███████████████████████████████████████| 119/119 [00:00<00:00, 1529.13it/s]\n"
     ]
    },
    {
     "name": "stdout",
     "output_type": "stream",
     "text": [
      "Epoch: 40/100, elapsed-time: 3.97s - loss: 0.0130 - RMSE: 0.0780 - val_loss: 0.0129 - val_RMSE: 0.0782 - \n"
     ]
    },
    {
     "name": "stderr",
     "output_type": "stream",
     "text": [
      "100%|███████████████████████████████████████| 119/119 [00:00<00:00, 1548.54it/s]\n"
     ]
    },
    {
     "name": "stdout",
     "output_type": "stream",
     "text": [
      "Epoch: 41/100, elapsed-time: 4.06s - loss: 0.0133 - RMSE: 0.0794 - val_loss: 0.0139 - val_RMSE: 0.0877 - \n"
     ]
    },
    {
     "name": "stderr",
     "output_type": "stream",
     "text": [
      "100%|███████████████████████████████████████| 119/119 [00:00<00:00, 1420.37it/s]\n"
     ]
    },
    {
     "name": "stdout",
     "output_type": "stream",
     "text": [
      "Epoch: 42/100, elapsed-time: 4.17s - loss: 0.0132 - RMSE: 0.0790 - val_loss: 0.0138 - val_RMSE: 0.0857 - \n"
     ]
    },
    {
     "name": "stderr",
     "output_type": "stream",
     "text": [
      "100%|███████████████████████████████████████| 119/119 [00:00<00:00, 1528.28it/s]\n"
     ]
    },
    {
     "name": "stdout",
     "output_type": "stream",
     "text": [
      "Epoch: 43/100, elapsed-time: 4.27s - loss: 0.0130 - RMSE: 0.0784 - val_loss: 0.0132 - val_RMSE: 0.0826 - \n"
     ]
    },
    {
     "name": "stderr",
     "output_type": "stream",
     "text": [
      "100%|███████████████████████████████████████| 119/119 [00:00<00:00, 1418.79it/s]\n"
     ]
    },
    {
     "name": "stdout",
     "output_type": "stream",
     "text": [
      "Epoch: 44/100, elapsed-time: 4.37s - loss: 0.0130 - RMSE: 0.0781 - val_loss: 0.0125 - val_RMSE: 0.0773 - \n"
     ]
    },
    {
     "name": "stderr",
     "output_type": "stream",
     "text": [
      "100%|███████████████████████████████████████| 119/119 [00:00<00:00, 1581.35it/s]\n"
     ]
    },
    {
     "name": "stdout",
     "output_type": "stream",
     "text": [
      "Epoch: 45/100, elapsed-time: 4.47s - loss: 0.0130 - RMSE: 0.0778 - val_loss: 0.0136 - val_RMSE: 0.0765 - \n"
     ]
    },
    {
     "name": "stderr",
     "output_type": "stream",
     "text": [
      "100%|███████████████████████████████████████| 119/119 [00:00<00:00, 1543.20it/s]\n"
     ]
    },
    {
     "name": "stdout",
     "output_type": "stream",
     "text": [
      "Epoch: 46/100, elapsed-time: 4.56s - loss: 0.0129 - RMSE: 0.0780 - val_loss: 0.0123 - val_RMSE: 0.0761 - \n"
     ]
    },
    {
     "name": "stderr",
     "output_type": "stream",
     "text": [
      "100%|███████████████████████████████████████| 119/119 [00:00<00:00, 1316.00it/s]\n"
     ]
    },
    {
     "name": "stdout",
     "output_type": "stream",
     "text": [
      "Epoch: 47/100, elapsed-time: 4.67s - loss: 0.0127 - RMSE: 0.0769 - val_loss: 0.0126 - val_RMSE: 0.0772 - \n"
     ]
    },
    {
     "name": "stderr",
     "output_type": "stream",
     "text": [
      "100%|███████████████████████████████████████| 119/119 [00:00<00:00, 1526.82it/s]\n"
     ]
    },
    {
     "name": "stdout",
     "output_type": "stream",
     "text": [
      "Epoch: 48/100, elapsed-time: 4.76s - loss: 0.0131 - RMSE: 0.0781 - val_loss: 0.0130 - val_RMSE: 0.0764 - \n"
     ]
    },
    {
     "name": "stderr",
     "output_type": "stream",
     "text": [
      "100%|███████████████████████████████████████| 119/119 [00:00<00:00, 1538.80it/s]\n"
     ]
    },
    {
     "name": "stdout",
     "output_type": "stream",
     "text": [
      "Epoch: 49/100, elapsed-time: 4.86s - loss: 0.0128 - RMSE: 0.0776 - val_loss: 0.0124 - val_RMSE: 0.0755 - \n"
     ]
    },
    {
     "name": "stderr",
     "output_type": "stream",
     "text": [
      "100%|███████████████████████████████████████| 119/119 [00:00<00:00, 1426.60it/s]\n"
     ]
    },
    {
     "name": "stdout",
     "output_type": "stream",
     "text": [
      "Epoch: 50/100, elapsed-time: 4.96s - loss: 0.0129 - RMSE: 0.0773 - val_loss: 0.0128 - val_RMSE: 0.0797 - \n"
     ]
    },
    {
     "name": "stderr",
     "output_type": "stream",
     "text": [
      "100%|███████████████████████████████████████| 119/119 [00:00<00:00, 1514.36it/s]\n"
     ]
    },
    {
     "name": "stdout",
     "output_type": "stream",
     "text": [
      "Epoch: 51/100, elapsed-time: 5.06s - loss: 0.0129 - RMSE: 0.0777 - val_loss: 0.0133 - val_RMSE: 0.0769 - \n"
     ]
    },
    {
     "name": "stderr",
     "output_type": "stream",
     "text": [
      "100%|███████████████████████████████████████| 119/119 [00:00<00:00, 1380.12it/s]\n"
     ]
    },
    {
     "name": "stdout",
     "output_type": "stream",
     "text": [
      "Epoch: 52/100, elapsed-time: 5.16s - loss: 0.0128 - RMSE: 0.0773 - val_loss: 0.0129 - val_RMSE: 0.0786 - \n"
     ]
    },
    {
     "name": "stderr",
     "output_type": "stream",
     "text": [
      "100%|███████████████████████████████████████| 119/119 [00:00<00:00, 1500.11it/s]\n"
     ]
    },
    {
     "name": "stdout",
     "output_type": "stream",
     "text": [
      "Epoch: 53/100, elapsed-time: 5.25s - loss: 0.0128 - RMSE: 0.0774 - val_loss: 0.0126 - val_RMSE: 0.0760 - \n"
     ]
    },
    {
     "name": "stderr",
     "output_type": "stream",
     "text": [
      "100%|███████████████████████████████████████| 119/119 [00:00<00:00, 1549.94it/s]\n"
     ]
    },
    {
     "name": "stdout",
     "output_type": "stream",
     "text": [
      "Epoch: 54/100, elapsed-time: 5.35s - loss: 0.0126 - RMSE: 0.0765 - val_loss: 0.0125 - val_RMSE: 0.0747 - \n"
     ]
    },
    {
     "name": "stderr",
     "output_type": "stream",
     "text": [
      "100%|███████████████████████████████████████| 119/119 [00:00<00:00, 1334.47it/s]\n"
     ]
    },
    {
     "name": "stdout",
     "output_type": "stream",
     "text": [
      "Epoch: 55/100, elapsed-time: 5.45s - loss: 0.0125 - RMSE: 0.0763 - val_loss: 0.0122 - val_RMSE: 0.0744 - \n"
     ]
    },
    {
     "name": "stderr",
     "output_type": "stream",
     "text": [
      "100%|███████████████████████████████████████| 119/119 [00:00<00:00, 1469.68it/s]\n"
     ]
    },
    {
     "name": "stdout",
     "output_type": "stream",
     "text": [
      "Epoch: 56/100, elapsed-time: 5.55s - loss: 0.0127 - RMSE: 0.0767 - val_loss: 0.0136 - val_RMSE: 0.0768 - \n"
     ]
    },
    {
     "name": "stderr",
     "output_type": "stream",
     "text": [
      "100%|███████████████████████████████████████| 119/119 [00:00<00:00, 1306.88it/s]\n"
     ]
    },
    {
     "name": "stdout",
     "output_type": "stream",
     "text": [
      "Epoch: 57/100, elapsed-time: 5.66s - loss: 0.0127 - RMSE: 0.0769 - val_loss: 0.0127 - val_RMSE: 0.0769 - \n"
     ]
    },
    {
     "name": "stderr",
     "output_type": "stream",
     "text": [
      "100%|███████████████████████████████████████| 119/119 [00:00<00:00, 1546.94it/s]\n"
     ]
    },
    {
     "name": "stdout",
     "output_type": "stream",
     "text": [
      "Epoch: 58/100, elapsed-time: 5.75s - loss: 0.0127 - RMSE: 0.0769 - val_loss: 0.0128 - val_RMSE: 0.0750 - \n"
     ]
    },
    {
     "name": "stderr",
     "output_type": "stream",
     "text": [
      "100%|███████████████████████████████████████| 119/119 [00:00<00:00, 1600.69it/s]\n"
     ]
    },
    {
     "name": "stdout",
     "output_type": "stream",
     "text": [
      "Epoch: 59/100, elapsed-time: 5.84s - loss: 0.0128 - RMSE: 0.0773 - val_loss: 0.0125 - val_RMSE: 0.0758 - \n"
     ]
    },
    {
     "name": "stderr",
     "output_type": "stream",
     "text": [
      "100%|███████████████████████████████████████| 119/119 [00:00<00:00, 1438.06it/s]\n"
     ]
    },
    {
     "name": "stdout",
     "output_type": "stream",
     "text": [
      "Epoch: 60/100, elapsed-time: 5.94s - loss: 0.0128 - RMSE: 0.0771 - val_loss: 0.0130 - val_RMSE: 0.0759 - \n"
     ]
    },
    {
     "name": "stderr",
     "output_type": "stream",
     "text": [
      "100%|███████████████████████████████████████| 119/119 [00:00<00:00, 1537.71it/s]\n"
     ]
    },
    {
     "name": "stdout",
     "output_type": "stream",
     "text": [
      "Epoch: 61/100, elapsed-time: 6.03s - loss: 0.0126 - RMSE: 0.0767 - val_loss: 0.0129 - val_RMSE: 0.0822 - \n"
     ]
    },
    {
     "name": "stderr",
     "output_type": "stream",
     "text": [
      "100%|███████████████████████████████████████| 119/119 [00:00<00:00, 1604.88it/s]\n"
     ]
    },
    {
     "name": "stdout",
     "output_type": "stream",
     "text": [
      "Epoch: 62/100, elapsed-time: 6.12s - loss: 0.0125 - RMSE: 0.0762 - val_loss: 0.0134 - val_RMSE: 0.0764 - \n"
     ]
    },
    {
     "name": "stderr",
     "output_type": "stream",
     "text": [
      "100%|███████████████████████████████████████| 119/119 [00:00<00:00, 1400.35it/s]\n"
     ]
    },
    {
     "name": "stdout",
     "output_type": "stream",
     "text": [
      "Epoch: 63/100, elapsed-time: 6.22s - loss: 0.0126 - RMSE: 0.0767 - val_loss: 0.0123 - val_RMSE: 0.0765 - \n"
     ]
    },
    {
     "name": "stderr",
     "output_type": "stream",
     "text": [
      "100%|███████████████████████████████████████| 119/119 [00:00<00:00, 1525.57it/s]\n"
     ]
    },
    {
     "name": "stdout",
     "output_type": "stream",
     "text": [
      "Epoch: 64/100, elapsed-time: 6.31s - loss: 0.0127 - RMSE: 0.0772 - val_loss: 0.0125 - val_RMSE: 0.0754 - \n"
     ]
    },
    {
     "name": "stderr",
     "output_type": "stream",
     "text": [
      "100%|███████████████████████████████████████| 119/119 [00:00<00:00, 1392.57it/s]\n"
     ]
    },
    {
     "name": "stdout",
     "output_type": "stream",
     "text": [
      "Epoch: 65/100, elapsed-time: 6.42s - loss: 0.0123 - RMSE: 0.0756 - val_loss: 0.0123 - val_RMSE: 0.0740 - \n"
     ]
    },
    {
     "name": "stderr",
     "output_type": "stream",
     "text": [
      "100%|███████████████████████████████████████| 119/119 [00:00<00:00, 1521.37it/s]\n"
     ]
    },
    {
     "name": "stdout",
     "output_type": "stream",
     "text": [
      "Epoch: 66/100, elapsed-time: 6.52s - loss: 0.0125 - RMSE: 0.0760 - val_loss: 0.0122 - val_RMSE: 0.0731 - \n"
     ]
    },
    {
     "name": "stderr",
     "output_type": "stream",
     "text": [
      "100%|███████████████████████████████████████| 119/119 [00:00<00:00, 1363.27it/s]\n"
     ]
    },
    {
     "name": "stdout",
     "output_type": "stream",
     "text": [
      "Epoch: 67/100, elapsed-time: 6.62s - loss: 0.0125 - RMSE: 0.0762 - val_loss: 0.0122 - val_RMSE: 0.0732 - \n"
     ]
    },
    {
     "name": "stderr",
     "output_type": "stream",
     "text": [
      "100%|███████████████████████████████████████| 119/119 [00:00<00:00, 1021.24it/s]\n"
     ]
    },
    {
     "name": "stdout",
     "output_type": "stream",
     "text": [
      "Epoch: 68/100, elapsed-time: 6.75s - loss: 0.0126 - RMSE: 0.0765 - val_loss: 0.0125 - val_RMSE: 0.0784 - \n"
     ]
    },
    {
     "name": "stderr",
     "output_type": "stream",
     "text": [
      "100%|███████████████████████████████████████| 119/119 [00:00<00:00, 1383.34it/s]\n"
     ]
    },
    {
     "name": "stdout",
     "output_type": "stream",
     "text": [
      "Epoch: 69/100, elapsed-time: 6.86s - loss: 0.0126 - RMSE: 0.0767 - val_loss: 0.0121 - val_RMSE: 0.0741 - \n"
     ]
    },
    {
     "name": "stderr",
     "output_type": "stream",
     "text": [
      "100%|███████████████████████████████████████| 119/119 [00:00<00:00, 1084.19it/s]\n"
     ]
    },
    {
     "name": "stdout",
     "output_type": "stream",
     "text": [
      "Epoch: 70/100, elapsed-time: 6.99s - loss: 0.0123 - RMSE: 0.0755 - val_loss: 0.0122 - val_RMSE: 0.0745 - \n"
     ]
    },
    {
     "name": "stderr",
     "output_type": "stream",
     "text": [
      "100%|███████████████████████████████████████| 119/119 [00:00<00:00, 1217.37it/s]\n"
     ]
    },
    {
     "name": "stdout",
     "output_type": "stream",
     "text": [
      "Epoch: 71/100, elapsed-time: 7.10s - loss: 0.0124 - RMSE: 0.0760 - val_loss: 0.0126 - val_RMSE: 0.0778 - \n"
     ]
    },
    {
     "name": "stderr",
     "output_type": "stream",
     "text": [
      "100%|███████████████████████████████████████| 119/119 [00:00<00:00, 1108.97it/s]\n"
     ]
    },
    {
     "name": "stdout",
     "output_type": "stream",
     "text": [
      "Epoch: 72/100, elapsed-time: 7.23s - loss: 0.0124 - RMSE: 0.0758 - val_loss: 0.0121 - val_RMSE: 0.0736 - \n"
     ]
    },
    {
     "name": "stderr",
     "output_type": "stream",
     "text": [
      "100%|███████████████████████████████████████| 119/119 [00:00<00:00, 1280.24it/s]\n"
     ]
    },
    {
     "name": "stdout",
     "output_type": "stream",
     "text": [
      "Epoch: 73/100, elapsed-time: 7.34s - loss: 0.0126 - RMSE: 0.0766 - val_loss: 0.0130 - val_RMSE: 0.0827 - \n"
     ]
    },
    {
     "name": "stderr",
     "output_type": "stream",
     "text": [
      "100%|███████████████████████████████████████| 119/119 [00:00<00:00, 1093.70it/s]\n"
     ]
    },
    {
     "name": "stdout",
     "output_type": "stream",
     "text": [
      "Epoch: 74/100, elapsed-time: 7.46s - loss: 0.0124 - RMSE: 0.0758 - val_loss: 0.0120 - val_RMSE: 0.0739 - \n"
     ]
    },
    {
     "name": "stderr",
     "output_type": "stream",
     "text": [
      "100%|███████████████████████████████████████| 119/119 [00:00<00:00, 1287.47it/s]\n"
     ]
    },
    {
     "name": "stdout",
     "output_type": "stream",
     "text": [
      "Epoch: 75/100, elapsed-time: 7.57s - loss: 0.0123 - RMSE: 0.0755 - val_loss: 0.0124 - val_RMSE: 0.0786 - \n"
     ]
    },
    {
     "name": "stderr",
     "output_type": "stream",
     "text": [
      "100%|███████████████████████████████████████| 119/119 [00:00<00:00, 1202.41it/s]\n"
     ]
    },
    {
     "name": "stdout",
     "output_type": "stream",
     "text": [
      "Epoch: 76/100, elapsed-time: 7.70s - loss: 0.0123 - RMSE: 0.0754 - val_loss: 0.0121 - val_RMSE: 0.0740 - \n"
     ]
    },
    {
     "name": "stderr",
     "output_type": "stream",
     "text": [
      "100%|████████████████████████████████████████| 119/119 [00:00<00:00, 833.75it/s]\n"
     ]
    },
    {
     "name": "stdout",
     "output_type": "stream",
     "text": [
      "Epoch: 77/100, elapsed-time: 7.87s - loss: 0.0123 - RMSE: 0.0757 - val_loss: 0.0122 - val_RMSE: 0.0756 - \n"
     ]
    },
    {
     "name": "stderr",
     "output_type": "stream",
     "text": [
      "100%|███████████████████████████████████████| 119/119 [00:00<00:00, 1372.04it/s]\n"
     ]
    },
    {
     "name": "stdout",
     "output_type": "stream",
     "text": [
      "Epoch: 78/100, elapsed-time: 7.97s - loss: 0.0124 - RMSE: 0.0761 - val_loss: 0.0123 - val_RMSE: 0.0733 - \n"
     ]
    },
    {
     "name": "stderr",
     "output_type": "stream",
     "text": [
      "100%|███████████████████████████████████████| 119/119 [00:00<00:00, 1490.99it/s]\n"
     ]
    },
    {
     "name": "stdout",
     "output_type": "stream",
     "text": [
      "Epoch: 79/100, elapsed-time: 8.07s - loss: 0.0123 - RMSE: 0.0753 - val_loss: 0.0124 - val_RMSE: 0.0775 - \n"
     ]
    },
    {
     "name": "stderr",
     "output_type": "stream",
     "text": [
      "100%|███████████████████████████████████████| 119/119 [00:00<00:00, 1587.31it/s]\n"
     ]
    },
    {
     "name": "stdout",
     "output_type": "stream",
     "text": [
      "Epoch: 80/100, elapsed-time: 8.16s - loss: 0.0125 - RMSE: 0.0764 - val_loss: 0.0133 - val_RMSE: 0.0751 - \n"
     ]
    },
    {
     "name": "stderr",
     "output_type": "stream",
     "text": [
      "100%|███████████████████████████████████████| 119/119 [00:00<00:00, 1389.48it/s]\n"
     ]
    },
    {
     "name": "stdout",
     "output_type": "stream",
     "text": [
      "Epoch: 81/100, elapsed-time: 8.26s - loss: 0.0124 - RMSE: 0.0762 - val_loss: 0.0121 - val_RMSE: 0.0732 - \n"
     ]
    },
    {
     "name": "stderr",
     "output_type": "stream",
     "text": [
      "100%|███████████████████████████████████████| 119/119 [00:00<00:00, 1510.98it/s]\n"
     ]
    },
    {
     "name": "stdout",
     "output_type": "stream",
     "text": [
      "Epoch: 82/100, elapsed-time: 8.36s - loss: 0.0124 - RMSE: 0.0757 - val_loss: 0.0121 - val_RMSE: 0.0757 - \n"
     ]
    },
    {
     "name": "stderr",
     "output_type": "stream",
     "text": [
      "100%|███████████████████████████████████████| 119/119 [00:00<00:00, 1582.15it/s]\n"
     ]
    },
    {
     "name": "stdout",
     "output_type": "stream",
     "text": [
      "Epoch: 83/100, elapsed-time: 8.44s - loss: 0.0125 - RMSE: 0.0763 - val_loss: 0.0128 - val_RMSE: 0.0745 - \n"
     ]
    },
    {
     "name": "stderr",
     "output_type": "stream",
     "text": [
      "100%|███████████████████████████████████████| 119/119 [00:00<00:00, 1156.96it/s]\n"
     ]
    },
    {
     "name": "stdout",
     "output_type": "stream",
     "text": [
      "Epoch: 84/100, elapsed-time: 8.57s - loss: 0.0122 - RMSE: 0.0752 - val_loss: 0.0120 - val_RMSE: 0.0737 - \n"
     ]
    },
    {
     "name": "stderr",
     "output_type": "stream",
     "text": [
      "100%|███████████████████████████████████████| 119/119 [00:00<00:00, 1266.72it/s]\n"
     ]
    },
    {
     "name": "stdout",
     "output_type": "stream",
     "text": [
      "Epoch: 85/100, elapsed-time: 8.68s - loss: 0.0123 - RMSE: 0.0756 - val_loss: 0.0132 - val_RMSE: 0.0752 - \n"
     ]
    },
    {
     "name": "stderr",
     "output_type": "stream",
     "text": [
      "100%|███████████████████████████████████████| 119/119 [00:00<00:00, 1342.34it/s]\n"
     ]
    },
    {
     "name": "stdout",
     "output_type": "stream",
     "text": [
      "Epoch: 86/100, elapsed-time: 8.78s - loss: 0.0122 - RMSE: 0.0755 - val_loss: 0.0131 - val_RMSE: 0.0759 - \n"
     ]
    },
    {
     "name": "stderr",
     "output_type": "stream",
     "text": [
      "100%|███████████████████████████████████████| 119/119 [00:00<00:00, 1402.38it/s]\n"
     ]
    },
    {
     "name": "stdout",
     "output_type": "stream",
     "text": [
      "Epoch: 87/100, elapsed-time: 8.89s - loss: 0.0122 - RMSE: 0.0752 - val_loss: 0.0121 - val_RMSE: 0.0751 - \n"
     ]
    },
    {
     "name": "stderr",
     "output_type": "stream",
     "text": [
      "100%|███████████████████████████████████████| 119/119 [00:00<00:00, 1471.46it/s]\n"
     ]
    },
    {
     "name": "stdout",
     "output_type": "stream",
     "text": [
      "Epoch: 88/100, elapsed-time: 8.99s - loss: 0.0123 - RMSE: 0.0754 - val_loss: 0.0125 - val_RMSE: 0.0749 - \n"
     ]
    },
    {
     "name": "stderr",
     "output_type": "stream",
     "text": [
      "100%|███████████████████████████████████████| 119/119 [00:00<00:00, 1135.95it/s]\n"
     ]
    },
    {
     "name": "stdout",
     "output_type": "stream",
     "text": [
      "Epoch: 89/100, elapsed-time: 9.11s - loss: 0.0124 - RMSE: 0.0757 - val_loss: 0.0119 - val_RMSE: 0.0735 - \n"
     ]
    },
    {
     "name": "stderr",
     "output_type": "stream",
     "text": [
      "100%|███████████████████████████████████████| 119/119 [00:00<00:00, 1001.84it/s]\n"
     ]
    },
    {
     "name": "stdout",
     "output_type": "stream",
     "text": [
      "Epoch: 90/100, elapsed-time: 9.24s - loss: 0.0122 - RMSE: 0.0752 - val_loss: 0.0124 - val_RMSE: 0.0797 - \n"
     ]
    },
    {
     "name": "stderr",
     "output_type": "stream",
     "text": [
      "100%|████████████████████████████████████████| 119/119 [00:00<00:00, 957.43it/s]\n"
     ]
    },
    {
     "name": "stdout",
     "output_type": "stream",
     "text": [
      "Epoch: 91/100, elapsed-time: 9.39s - loss: 0.0122 - RMSE: 0.0753 - val_loss: 0.0129 - val_RMSE: 0.0810 - \n"
     ]
    },
    {
     "name": "stderr",
     "output_type": "stream",
     "text": [
      "100%|███████████████████████████████████████| 119/119 [00:00<00:00, 1484.25it/s]\n"
     ]
    },
    {
     "name": "stdout",
     "output_type": "stream",
     "text": [
      "Epoch: 92/100, elapsed-time: 9.48s - loss: 0.0121 - RMSE: 0.0748 - val_loss: 0.0118 - val_RMSE: 0.0737 - \n"
     ]
    },
    {
     "name": "stderr",
     "output_type": "stream",
     "text": [
      "100%|███████████████████████████████████████| 119/119 [00:00<00:00, 1331.43it/s]\n"
     ]
    },
    {
     "name": "stdout",
     "output_type": "stream",
     "text": [
      "Epoch: 93/100, elapsed-time: 9.59s - loss: 0.0122 - RMSE: 0.0750 - val_loss: 0.0120 - val_RMSE: 0.0730 - \n"
     ]
    },
    {
     "name": "stderr",
     "output_type": "stream",
     "text": [
      "100%|███████████████████████████████████████| 119/119 [00:00<00:00, 1539.72it/s]\n"
     ]
    },
    {
     "name": "stdout",
     "output_type": "stream",
     "text": [
      "Epoch: 94/100, elapsed-time: 9.68s - loss: 0.0122 - RMSE: 0.0748 - val_loss: 0.0126 - val_RMSE: 0.0805 - \n"
     ]
    },
    {
     "name": "stderr",
     "output_type": "stream",
     "text": [
      "100%|███████████████████████████████████████| 119/119 [00:00<00:00, 1419.69it/s]\n"
     ]
    },
    {
     "name": "stdout",
     "output_type": "stream",
     "text": [
      "Epoch: 95/100, elapsed-time: 9.78s - loss: 0.0122 - RMSE: 0.0751 - val_loss: 0.0120 - val_RMSE: 0.0722 - \n"
     ]
    },
    {
     "name": "stderr",
     "output_type": "stream",
     "text": [
      "100%|███████████████████████████████████████| 119/119 [00:00<00:00, 1334.80it/s]\n"
     ]
    },
    {
     "name": "stdout",
     "output_type": "stream",
     "text": [
      "Epoch: 96/100, elapsed-time: 9.89s - loss: 0.0122 - RMSE: 0.0751 - val_loss: 0.0120 - val_RMSE: 0.0730 - \n"
     ]
    },
    {
     "name": "stderr",
     "output_type": "stream",
     "text": [
      "100%|███████████████████████████████████████| 119/119 [00:00<00:00, 1402.88it/s]\n"
     ]
    },
    {
     "name": "stdout",
     "output_type": "stream",
     "text": [
      "Epoch: 97/100, elapsed-time: 10.00s - loss: 0.0123 - RMSE: 0.0753 - val_loss: 0.0122 - val_RMSE: 0.0740 - \n"
     ]
    },
    {
     "name": "stderr",
     "output_type": "stream",
     "text": [
      "100%|███████████████████████████████████████| 119/119 [00:00<00:00, 1415.37it/s]\n"
     ]
    },
    {
     "name": "stdout",
     "output_type": "stream",
     "text": [
      "Epoch: 98/100, elapsed-time: 10.10s - loss: 0.0121 - RMSE: 0.0743 - val_loss: 0.0122 - val_RMSE: 0.0733 - \n"
     ]
    },
    {
     "name": "stderr",
     "output_type": "stream",
     "text": [
      "100%|███████████████████████████████████████| 119/119 [00:00<00:00, 1482.06it/s]\n"
     ]
    },
    {
     "name": "stdout",
     "output_type": "stream",
     "text": [
      "Epoch: 99/100, elapsed-time: 10.20s - loss: 0.0119 - RMSE: 0.0741 - val_loss: 0.0119 - val_RMSE: 0.0734 - \n"
     ]
    },
    {
     "name": "stderr",
     "output_type": "stream",
     "text": [
      "100%|████████████████████████████████████████| 119/119 [00:00<00:00, 879.83it/s]"
     ]
    },
    {
     "name": "stdout",
     "output_type": "stream",
     "text": [
      "Epoch: 100/100, elapsed-time: 10.35s - loss: 0.0120 - RMSE: 0.0745 - val_loss: 0.0122 - val_RMSE: 0.0736 - \n"
     ]
    },
    {
     "name": "stderr",
     "output_type": "stream",
     "text": [
      "\n"
     ]
    }
   ],
   "source": [
    "history = model.train((X_train, y_train),\n",
    "                      (X_test, y_test), epochs=100)"
   ]
  },
  {
   "cell_type": "code",
   "execution_count": 20,
   "id": "def5e117",
   "metadata": {},
   "outputs": [
    {
     "data": {
      "image/png": "[encoded data removed]",
      "text/plain": [
       "<Figure size 1152x864 with 2 Axes>"
      ]
     },
     "metadata": {
      "needs_background": "light"
     },
     "output_type": "display_data"
    }
   ],
   "source": [
    "history.plot_training_hist()"
   ]
  },
  {
   "cell_type": "code",
   "execution_count": 21,
   "id": "94035161",
   "metadata": {},
   "outputs": [
    {
     "name": "stdout",
     "output_type": "stream",
     "text": [
      "Best epoch: 91, MSE: 0.0118, RMSE: 0.0748\n"
     ]
    }
   ],
   "source": [
    "best_epoch = np.argmin(history.history['val_loss'])\n",
    "min_loss = history.history['val_loss'][best_epoch]\n",
    "min_rmse = history.history['RMSE'][best_epoch]\n",
    "\n",
    "print(f'Best epoch: {best_epoch}, MSE: {min_loss:.4f}, RMSE: {min_rmse:.4f}')"
   ]
  },
  {
   "cell_type": "code",
   "execution_count": 22,
   "id": "235185c9",
   "metadata": {},
   "outputs": [],
   "source": [
    "# Predict some random samples\n",
    "n_samples = 10\n",
    "samples_idx = np.random.randint(0, X_test.shape[0], n_samples)\n",
    "\n",
    "sample_X = X_test[samples_idx]\n",
    "sample_y = y_test[samples_idx]\n",
    "\n",
    "preds = model.get_predictions(sample_X)"
   ]
  },
  {
   "cell_type": "code",
   "execution_count": 23,
   "id": "4e05da21",
   "metadata": {},
   "outputs": [],
   "source": [
    "# Flatten arrays to 1D\n",
    "preds = preds.ravel()\n",
    "sample_y = sample_y.ravel()"
   ]
  },
  {
   "cell_type": "code",
   "execution_count": 24,
   "id": "af77d473",
   "metadata": {},
   "outputs": [
    {
     "name": "stdout",
     "output_type": "stream",
     "text": [
      "Label($)        Prediction($)        Pct Error\n",
      "==============================================\n",
      "156100          164343                   5.28%\n",
      "344000          383391                  11.45%\n",
      "221100          160096                 -27.59%\n",
      "175500          156215                 -10.99%\n",
      "113500          129064                  13.71%\n",
      "500001          423331                 -15.33%\n",
      "183400          239156                  30.40%\n",
      "148100          165845                  11.98%\n",
      "310500          271109                 -12.69%\n",
      "93400            74697                 -20.02%\n",
      "==============================================\n",
      "\n",
      "Mean percentage error: 7.97%\n"
     ]
    }
   ],
   "source": [
    "error_arr = np.zeros(20)\n",
    "\n",
    "headers = ['Label($)', 'Prediction($)', 'Pct Error']\n",
    "print(f'{headers[0]} {headers[1]:>20} {headers[2]:>16}')\n",
    "print('=' * 46)\n",
    "for i, (label, pred) in enumerate(zip(sample_y, preds)):\n",
    "    denorm_label = label * (target_max - target_min) + target_min\n",
    "    denorm_pred = pred * (target_max - target_min) + target_min\n",
    "    pct_error = (denorm_pred - denorm_label) / denorm_label\n",
    "    error_arr[i] = np.abs(pct_error)\n",
    "    print(f'{int(denorm_label):<15} {int(denorm_pred):>6} {pct_error:>23.2%}')\n",
    "\n",
    "print('=' * 46)\n",
    "print(f'\\nMean percentage error: {np.mean(error_arr):.2%}')"
   ]
  },
  {
   "cell_type": "code",
   "execution_count": null,
   "id": "f34d86f9",
   "metadata": {},
   "outputs": [],
   "source": []
  }
 ],
 "metadata": {
  "kernelspec": {
   "display_name": "Python 3 (ipykernel)",
   "language": "python",
   "name": "python3"
  },
  "language_info": {
   "codemirror_mode": {
    "name": "ipython",
    "version": 3
   },
   "file_extension": ".py",
   "mimetype": "text/x-python",
   "name": "python",
   "nbconvert_exporter": "python",
   "pygments_lexer": "ipython3",
   "version": "3.9.16"
  }
 },
 "nbformat": 4,
 "nbformat_minor": 5
}
